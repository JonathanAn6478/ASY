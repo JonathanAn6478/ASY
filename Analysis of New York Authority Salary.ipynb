{
 "cells": [
  {
   "cell_type": "markdown",
   "metadata": {},
   "source": [
    "# ISTM 6216 Final Project"
   ]
  },
  {
   "cell_type": "markdown",
   "metadata": {},
   "source": [
    "### Group 6\n",
    "Qi Ding  \n",
    "Siye An  \n",
    "Hanwei Zhao  "
   ]
  },
  {
   "cell_type": "markdown",
   "metadata": {},
   "source": [
    "# Part One: Data Selection"
   ]
  },
  {
   "cell_type": "markdown",
   "metadata": {},
   "source": [
    "The dataset is provided by the Authorities Budget Office. Data is reported by each State Authority beginning with the fiscal year ending in 2011. The dataset is acquired from its publisher: State of New York. It contains information on various salary information of 868K employees in 46 state authorities: base annualized salary, actual salary paid, overtime pay, performance bonus, extra pay, other compensation, and total compensation. \n",
    "\n",
    "We select this dataset to study the salary distribution across years, authorities, groups and departments in public sector. Moreover, it offers useful insights  with respect to the proportion of each salary component in the total compensation. "
   ]
  },
  {
   "cell_type": "markdown",
   "metadata": {},
   "source": [
    "# Part Two:  Data Exploration and Wrangling"
   ]
  },
  {
   "cell_type": "markdown",
   "metadata": {},
   "source": [
    "### 2.1 Overview of the original dataset"
   ]
  },
  {
   "cell_type": "markdown",
   "metadata": {},
   "source": [
    "- From the output of 'wc -l', we know there are over 868 thousands of records in the salary dataset. This increased the difficulty of wrangling the data because Trifacta can upload maximum 100 MB file every time.  \n",
    "- From the output of 'csvstat -n', there are originally 20 attributes in the dataset:\n",
    "  - 1: Authority Name\n",
    "  - 2: Fiscal Year End Date\n",
    "  - 3: Has Employees\n",
    "  - 4: Last Name\n",
    "  - 5: Middle Initial\n",
    "  - 6: First Name\n",
    "  - 7: Title\n",
    "  - 8: Group\n",
    "  - 9: Department\n",
    "  - 10: Pay Type\n",
    "  - 11: Exempt Indicator\n",
    "  - 12: Base Annualized Salary\n",
    "  - 13: Actual Salary Paid\n",
    "  - 14: Overtime Paid\n",
    "  - 15: Performance Bonus\n",
    "  - 16: Extra Pay\n",
    "  - 17: Other Compensation\n",
    "  - 18: Total Compensation\n",
    "  - 19: Paid By Another Entity\n",
    "  - 20: Paid by State or Local Government"
   ]
  },
  {
   "cell_type": "code",
   "execution_count": 7,
   "metadata": {},
   "outputs": [
    {
     "name": "stdout",
     "output_type": "stream",
     "text": [
      "--2019-11-22 23:38:25--  https://datamanagement-groupwork3.s3.amazonaws.com/Salary_Information_for_State_Authorities.csv\n",
      "Resolving datamanagement-groupwork3.s3.amazonaws.com (datamanagement-groupwork3.s3.amazonaws.com)... 52.216.112.156\n",
      "Connecting to datamanagement-groupwork3.s3.amazonaws.com (datamanagement-groupwork3.s3.amazonaws.com)|52.216.112.156|:443... connected.\n",
      "HTTP request sent, awaiting response... 200 OK\n",
      "Length: 160255379 (153M) [text/csv]\n",
      "Saving to: 'Salary_Information_for_State_Authorities.csv'\n",
      "\n",
      "Salary_Information_ 100%[===================>] 152.83M  42.3MB/s    in 3.6s    \n",
      "\n",
      "2019-11-22 23:38:28 (42.2 MB/s) - 'Salary_Information_for_State_Authorities.csv' saved [160255379/160255379]\n",
      "\n"
     ]
    }
   ],
   "source": [
    "!wget https://datamanagement-groupwork3.s3.amazonaws.com/Salary_Information_for_State_Authorities.csv"
   ]
  },
  {
   "cell_type": "code",
   "execution_count": 9,
   "metadata": {},
   "outputs": [
    {
     "name": "stdout",
     "output_type": "stream",
     "text": [
      "mv: cannot stat 'Salary_Information_for_State_Authorities.csv': No such file or directory\n"
     ]
    }
   ],
   "source": [
    "!mv Salary_Information_for_State_Authorities.csv salary.csv"
   ]
  },
  {
   "cell_type": "code",
   "execution_count": 16,
   "metadata": {},
   "outputs": [
    {
     "name": "stdout",
     "output_type": "stream",
     "text": [
      "868379 salary.csv\n"
     ]
    }
   ],
   "source": [
    "!wc -l salary.csv"
   ]
  },
  {
   "cell_type": "code",
   "execution_count": 17,
   "metadata": {},
   "outputs": [
    {
     "name": "stdout",
     "output_type": "stream",
     "text": [
      "  1: Authority Name\n",
      "  2: Fiscal Year End Date\n",
      "  3: Has Employees\n",
      "  4: Last Name\n",
      "  5: Middle Initial\n",
      "  6: First Name\n",
      "  7: Title\n",
      "  8: Group\n",
      "  9: Department\n",
      " 10: Pay Type\n",
      " 11: Exempt Indicator\n",
      " 12: Base Annualized Salary\n",
      " 13: Actual Salary Paid\n",
      " 14: Overtime Paid\n",
      " 15: Performance Bonus\n",
      " 16: Extra Pay\n",
      " 17: Other Compensation\n",
      " 18: Total Compensation\n",
      " 19: Paid By Another Entity\n",
      " 20: Paid by State or Local Government\n"
     ]
    }
   ],
   "source": [
    "!csvstat -n salary.csv"
   ]
  },
  {
   "cell_type": "markdown",
   "metadata": {},
   "source": [
    "### 2.2 Find problems in the original dataset by Csvkit Tools and XSV Tools"
   ]
  },
  {
   "cell_type": "markdown",
   "metadata": {},
   "source": [
    "Since Trifacta can only observe limited amount of data, we use unix shell commands combined with csvstat to explore the original data at the beginning. We find there are mainly three problems in our dataset:  \n",
    "- The column \"Has Employees\" is totally blank. According to the data dictionary in the official website, it indicates that all the authorites reported having staff.  \n",
    "- The column \"Paid By Another Entity\" is all assigned with \"False\" value.\n",
    "- The column \"Paid by State or Local Government\" is empty. According to data dictionary in the official website, blank(missing values) indicates that the employee is not paid by state or local government."
   ]
  },
  {
   "cell_type": "code",
   "execution_count": 15,
   "metadata": {},
   "outputs": [
    {
     "name": "stdout",
     "output_type": "stream",
     "text": [
      "  1. \"Authority Name\"\n",
      "\n",
      "\tType of data:          Text\n",
      "\tContains null values:  False\n",
      "\tUnique values:         6\n",
      "\tLongest value:         62 characters\n",
      "\tMost common values:    Metropolitan Transportation Authority (45672x)\n",
      "\t                       Erie County Medical Center Corporation (4257x)\n",
      "\t                       Long Island Power Authority (62x)\n",
      "\t                       Agriculture and New York State Horse Breeding Development Fund (3x)\n",
      "\t                       Erie County Fiscal Stability Authority (3x)\n",
      "\n",
      "  2. \"Fiscal Year End Date\"\n",
      "\n",
      "\tType of data:          Date\n",
      "\tContains null values:  False\n",
      "\tUnique values:         1\n",
      "\tSmallest value:        2018-12-31\n",
      "\tLargest value:         2018-12-31\n",
      "\tMost common values:    2018-12-31 (49999x)\n",
      "\n",
      "  3. \"Has Employees\"\n",
      "\n",
      "\tType of data:          Boolean\n",
      "\tContains null values:  True (excluded from calculations)\n",
      "\tUnique values:         1\n",
      "\tMost common values:    None (49999x)\n",
      "\n",
      "  4. \"Last Name\"\n",
      "\n",
      "\tType of data:          Text\n",
      "\tContains null values:  False\n",
      "\tUnique values:         18828\n",
      "\tLongest value:         23 characters\n",
      "\tMost common values:    Johnson (535x)\n",
      "\t                       Brown (523x)\n",
      "\t                       Jones (437x)\n",
      "\t                       Davis (289x)\n",
      "\t                       Gonzalez (266x)\n",
      "\n",
      "  5. \"Middle Initial\"\n",
      "\n",
      "\tType of data:          Text\n",
      "\tContains null values:  True (excluded from calculations)\n",
      "\tUnique values:         42\n",
      "\tLongest value:         1 characters\n",
      "\tMost common values:    None (18644x)\n",
      "\t                       A (4842x)\n",
      "\t                       M (3414x)\n",
      "\t                       J (3343x)\n",
      "\t                       L (2286x)\n",
      "\n",
      "  6. \"First Name\"\n",
      "\n",
      "\tType of data:          Text\n",
      "\tContains null values:  False\n",
      "\tUnique values:         10439\n",
      "\tLongest value:         20 characters\n",
      "\tMost common values:    Michael (1346x)\n",
      "\t                       John (898x)\n",
      "\t                       Joseph (798x)\n",
      "\t                       Anthony (733x)\n",
      "\t                       Robert (714x)\n",
      "\n",
      "  7. \"Title\"\n",
      "\n",
      "\tType of data:          Text\n",
      "\tContains null values:  False\n",
      "\tUnique values:         4155\n",
      "\tLongest value:         78 characters\n",
      "\tMost common values:    Bus Operator(Revenue Vehicle) (4635x)\n",
      "\t                       Train Operator (Rev.Vehicles) (2108x)\n",
      "\t                       Bus Operators (1398x)\n",
      "\t                       Conductor (1239x)\n",
      "\t                       Cleaner (Transit-Labor Class) (1089x)\n",
      "\n",
      "  8. \"Group\"\n",
      "\n",
      "\tType of data:          Text\n",
      "\tContains null values:  False\n",
      "\tUnique values:         6\n",
      "\tLongest value:         27 characters\n",
      "\tMost common values:    Operational (37133x)\n",
      "\t                       Professional (5618x)\n",
      "\t                       Managerial (3421x)\n",
      "\t                       Administrative and Clerical (2744x)\n",
      "\t                       Technical and Engineering (864x)\n",
      "\n",
      "  9. \"Department\"\n",
      "\n",
      "\tType of data:          Text\n",
      "\tContains null values:  True (excluded from calculations)\n",
      "\tUnique values:         1592\n",
      "\tLongest value:         52 characters\n",
      "\tMost common values:    Road Passenger Crews (1073x)\n",
      "\t                       TandE Crews (858x)\n",
      "\t                       Station Environ and Ops Dist 4 (644x)\n",
      "\t                       Station Environ and Ops Dist 3 (640x)\n",
      "\t                       Station Environ and Ops Dist 1 (627x)\n",
      "\n",
      " 10. \"Pay Type\"\n",
      "\n",
      "\tType of data:          Text\n",
      "\tContains null values:  False\n",
      "\tUnique values:         2\n",
      "\tLongest value:         2 characters\n",
      "\tMost common values:    FT (48515x)\n",
      "\t                       PT (1484x)\n",
      "\n",
      " 11. \"Exempt Indicator\"\n",
      "\n",
      "\tType of data:          Boolean\n",
      "\tContains null values:  False\n",
      "\tUnique values:         2\n",
      "\tMost common values:    False (34091x)\n",
      "\t                       True (15908x)\n",
      "\n",
      " 12. \"Base Annualized Salary\"\n",
      "\n",
      "\tType of data:          Number\n",
      "\tContains null values:  False\n",
      "\tUnique values:         6689\n",
      "\tSmallest value:        0\n",
      "\tLargest value:         875,500.02\n",
      "\tSum:                   3,703,711,112.58\n",
      "\tMean:                  74,075.704\n",
      "\tMedian:                70,863.67\n",
      "\tStDev:                 25,124.447\n",
      "\tMost common values:    70,863.67 (5660x)\n",
      "\t                       75,399.85 (4180x)\n",
      "\t                       78,729.53 (1628x)\n",
      "\t                       60,064.39 (1439x)\n",
      "\t                       65,067.78 (1015x)\n",
      "\n",
      " 13. \"Actual Salary Paid\"\n",
      "\n",
      "\tType of data:          Number\n",
      "\tContains null values:  False\n",
      "\tUnique values:         47782\n",
      "\tSmallest value:        0\n",
      "\tLargest value:         875,009.94\n",
      "\tSum:                   3,409,052,253.16\n",
      "\tMean:                  68,182.409\n",
      "\tMedian:                71,769.22\n",
      "\tStDev:                 31,623.034\n",
      "\tMost common values:    0 (672x)\n",
      "\t                       64,858.82 (227x)\n",
      "\t                       2,098.64 (47x)\n",
      "\t                       1,366.52 (33x)\n",
      "\t                       87,001.98 (30x)\n",
      "\n",
      " 14. \"Overtime Paid\"\n",
      "\n",
      "\tType of data:          Number\n",
      "\tContains null values:  False\n",
      "\tUnique values:         40664\n",
      "\tSmallest value:        0\n",
      "\tLargest value:         344,146.93\n",
      "\tSum:                   765,965,738.19\n",
      "\tMean:                  15,319.621\n",
      "\tMedian:                7,564.38\n",
      "\tStDev:                 20,737.65\n",
      "\tMost common values:    0 (8703x)\n",
      "\t                       153.73 (19x)\n",
      "\t                       77.97 (12x)\n",
      "\t                       112.69 (12x)\n",
      "\t                       115.51 (9x)\n",
      "\n",
      " 15. \"Performance Bonus\"\n",
      "\n",
      "\tType of data:          Number\n",
      "\tContains null values:  False\n",
      "\tUnique values:         87\n",
      "\tSmallest value:        0\n",
      "\tLargest value:         48,000\n",
      "\tSum:                   2,379,791.14\n",
      "\tMean:                  47.597\n",
      "\tMedian:                0\n",
      "\tStDev:                 837.326\n",
      "\tMost common values:    0 (49322x)\n",
      "\t                       2,800 (303x)\n",
      "\t                       700 (42x)\n",
      "\t                       2,100 (25x)\n",
      "\t                       3,700 (24x)\n",
      "\n",
      " 16. \"Extra Pay\"\n",
      "\n",
      "\tType of data:          Number\n",
      "\tContains null values:  False\n",
      "\tUnique values:         22056\n",
      "\tSmallest value:        0\n",
      "\tLargest value:         209,998.98\n",
      "\tSum:                   88,254,247.52\n",
      "\tMean:                  1,765.12\n",
      "\tMedian:                470.29\n",
      "\tStDev:                 5,704.763\n",
      "\tMost common values:    0 (18409x)\n",
      "\t                       272.55 (240x)\n",
      "\t                       225.38 (214x)\n",
      "\t                       545.65 (202x)\n",
      "\t                       2,097.94 (176x)\n",
      "\n",
      " 17. \"Other Compensation\"\n",
      "\n",
      "\tType of data:          Number\n",
      "\tContains null values:  False\n",
      "\tUnique values:         25457\n",
      "\tSmallest value:        0\n",
      "\tLargest value:         260,000\n",
      "\tSum:                   55,560,591.07\n",
      "\tMean:                  1,111.234\n",
      "\tMedian:                279.15\n",
      "\tStDev:                 3,028.865\n",
      "\tMost common values:    0 (13744x)\n",
      "\t                       100 (2852x)\n",
      "\t                       50 (552x)\n",
      "\t                       500 (274x)\n",
      "\t                       85 (178x)\n",
      "\n",
      " 18. \"Total Compensation\"\n",
      "\n",
      "\tType of data:          Number\n",
      "\tContains null values:  False\n",
      "\tUnique values:         49216\n",
      "\tSmallest value:        0\n",
      "\tLargest value:         885,187.68\n",
      "\tSum:                   4,321,212,621.08\n",
      "\tMean:                  86,425.981\n",
      "\tMedian:                85,903.65\n",
      "\tStDev:                 43,108.466\n",
      "\tMost common values:    2,098.64 (41x)\n",
      "\t                       1,366.52 (33x)\n",
      "\t                       0 (21x)\n",
      "\t                       152.01 (19x)\n",
      "\t                       3,815.72 (18x)\n",
      "\n",
      " 19. \"Paid By Another Entity\"\n",
      "\n",
      "\tType of data:          Boolean\n",
      "\tContains null values:  False\n",
      "\tUnique values:         1\n",
      "\tMost common values:    False (49999x)\n",
      "\n",
      " 20. \"Paid by State or Local Government\"\n",
      "\n",
      "\tType of data:          Boolean\n",
      "\tContains null values:  True (excluded from calculations)\n",
      "\tUnique values:         1\n",
      "\tMost common values:    None (49999x)\n",
      "\n",
      "Row count: 49999\n"
     ]
    }
   ],
   "source": [
    "!head -n 50000 salary.csv| csvstat"
   ]
  },
  {
   "cell_type": "code",
   "execution_count": 12,
   "metadata": {},
   "outputs": [
    {
     "name": "stdout",
     "output_type": "stream",
     "text": [
      "field                              type     sum                 min                                                             max                                         min_length  max_length  mean                stddev\n",
      "Authority Name                     Unicode                      Agriculture and New York State Horse Breeding Development Fund  Westchester County Health Care Corporation  22          85                              \n",
      "Fiscal Year End Date               Unicode                      03/31/2011                                                      12/31/2018                                  10          10                              \n",
      "Has Employees                      Unicode                      No                                                              No                                          0           2                               \n",
      "Last Name                          Unicode                      AAMIR                                                           whipkey                                     0           28                              \n",
      "Middle Initial                     Unicode                      (                                                               z                                           0           1                               \n",
      "First Name                         Unicode                      -                                                               shironald                                   0           27                              \n",
      "Title                              Unicode                      (Acting) Computerized Toll Eq. Spec./Mngr of Toll Systems       seasonal employee                           0           89                              \n",
      "Group                              Unicode                      Administrative and Clerical                                     Technical and Engineering                   0           27                              \n",
      "Department                         Unicode                      #1 LINE                                                         office of Professional Services             0           62                              \n",
      "Pay Type                           Unicode                      FT                                                              PT                                          0           2                               \n",
      "Exempt Indicator                   Unicode                      N                                                               Y                                           0           1                               \n",
      "Base Annualized Salary             Float    56543230646.01267   0                                                               1545000                                     0           10          65115.189542905224  31661.331887960943\n",
      "Actual Salary Paid                 Float    51772800647.295815  -8797.56                                                        1525269.39                                  0           10          59621.56192359797   35895.3435477479\n",
      "Overtime Paid                      Float    8193676168.780047   0                                                               344146.93                                   0           9           9435.83821951117    14597.272348998602\n",
      "Performance Bonus                  Float    73655363.06000035   0                                                               600000                                      0           9           84.82152278383154   2195.0333459383482\n",
      "Extra Pay                          Float    1839419465.760015   0                                                               752692.5                                    0           9           2118.2756236893542  6367.913689387004\n",
      "Other Compensation                 Float    606940688.0800349   -34928                                                          735124.72                                   0           9           698.9529514704121   3978.7600232230816\n",
      "Total Compensation                 Float    62486492332.96775   -11702.65                                                       2621677.18                                  0           10          71959.45024104927   44677.05299910629\n",
      "Paid By Another Entity             Unicode                      N                                                               Y                                           0           1                               \n",
      "Paid by State or Local Government  Unicode                      N                                                               Y                                           0           1                               \n"
     ]
    }
   ],
   "source": [
    "!xsv stats salary.csv | xsv table"
   ]
  },
  {
   "cell_type": "markdown",
   "metadata": {},
   "source": [
    "### 2.3 Data Wrangling on Trifacta"
   ]
  },
  {
   "cell_type": "markdown",
   "metadata": {},
   "source": [
    "The findings on Trifacta platform are a little bit different from those manifested by csvkit. We use stratified sample based on fiscal year and the sample contains 36348 rows. The reason behind the difference results from the fact that 'csvstat' only studies the first 50000 rows which are all from 2018 fiscal year. Using stratified sampling, we can have an unbiased understanding of the characteristics of the dataset."
   ]
  },
  {
   "cell_type": "markdown",
   "metadata": {},
   "source": [
    "- For the column \"Has Employees\", firstly, we delete rows where the value of this attribute is 'N' which indicates that there is no employees in this authority. Secondly, we choose to delete this column, since it doesn't offer futher useful information.\n",
    "- For the column \"Paid By Another Entity\", we choose to retain it, since there are approximately 1% employees who are paid by another entity.\n",
    "- For the column \"Paid by State or Local Government\", we choose to transform the missing values into \"N\", since there are 0.01% employeed who are paid by state or local government. \n",
    "- For the column \"Department\", we replace missing values with \"Not Entered\" to show that the reporters don't report this column. \n",
    "- For the all columns, we find there are redundant quotes in some attributes, such as \"Last Name\", \"Middle Initial\" and \"First Name\". We decide to remove the extra quotes. "
   ]
  },
  {
   "cell_type": "markdown",
   "metadata": {},
   "source": [
    "We split the 160 MB orginal file into two files, and create the same recipe for both of them on Trifacta:"
   ]
  },
  {
   "cell_type": "markdown",
   "metadata": {},
   "source": [
    "```\n",
    "\n",
    "exactly col: {Has Employees} exactly: 'No' action: Delete\n",
    "drop col: {Has Employees} action: Drop\n",
    "replacemissing col: {Paid by State or Local Government} with: custom text: 'N'\n",
    "replacemissing col: Department with: custom text: 'Not Entered'\n",
    "replacepatterns col: {Last Name}, {Middle Initial}, {First Name}, {Authority Name}, Title, Group, Department, {Pay Type}, {Exempt Indicator} with: ' ' on: '\\\"'\n",
    "replacepatterns col: {Last Name}, {Middle Initial}, {First Name}, {Authority Name}, Title, Group, Department, {Pay Type}, {Exempt Indicator} with: ' ' on: '\\\"'\n",
    "\n",
    "```"
   ]
  },
  {
   "cell_type": "markdown",
   "metadata": {},
   "source": [
    "### 2.4 Re-exploring the data by Csvkit Tools and XSV Tools"
   ]
  },
  {
   "cell_type": "markdown",
   "metadata": {},
   "source": [
    "- We use XSV tool \"xsv cat rows\" to stack the two large files because csvstack are less efficient in terms of dealing with large dataset.\n",
    "- We use csvstat to study the wrangled dataset. From the output, we can find that \"Has Employees\" is deleted and \"paid by state or governement\" is transformed by adding 'N' for missing values. "
   ]
  },
  {
   "cell_type": "code",
   "execution_count": 31,
   "metadata": {},
   "outputs": [
    {
     "name": "stdout",
     "output_type": "stream",
     "text": [
      "--2019-11-26 18:20:03--  https://datamanagement-groupwork3.s3.amazonaws.com/salary_11.csv\n",
      "Resolving datamanagement-groupwork3.s3.amazonaws.com (datamanagement-groupwork3.s3.amazonaws.com)... 52.217.11.84\n",
      "Connecting to datamanagement-groupwork3.s3.amazonaws.com (datamanagement-groupwork3.s3.amazonaws.com)|52.217.11.84|:443... connected.\n",
      "HTTP request sent, awaiting response... 200 OK\n",
      "Length: 100566674 (96M) [text/csv]\n",
      "Saving to: 'salary_11.csv'\n",
      "\n",
      "salary_11.csv       100%[===================>]  95.91M  37.3MB/s    in 2.6s    \n",
      "\n",
      "2019-11-26 18:20:05 (37.3 MB/s) - 'salary_11.csv' saved [100566674/100566674]\n",
      "\n"
     ]
    }
   ],
   "source": [
    "# get data file salary 1\n",
    "!wget https://datamanagement-groupwork3.s3.amazonaws.com/salary_1.csv"
   ]
  },
  {
   "cell_type": "code",
   "execution_count": 32,
   "metadata": {},
   "outputs": [
    {
     "name": "stdout",
     "output_type": "stream",
     "text": [
      "--2019-11-26 18:20:09--  https://datamanagement-groupwork3.s3.amazonaws.com/salary_12.csv\n",
      "Resolving datamanagement-groupwork3.s3.amazonaws.com (datamanagement-groupwork3.s3.amazonaws.com)... 52.216.97.251\n",
      "Connecting to datamanagement-groupwork3.s3.amazonaws.com (datamanagement-groupwork3.s3.amazonaws.com)|52.216.97.251|:443... connected.\n",
      "HTTP request sent, awaiting response... 200 OK\n",
      "Length: 92766526 (88M) [text/csv]\n",
      "Saving to: 'salary_12.csv'\n",
      "\n",
      "salary_12.csv       100%[===================>]  88.47M  39.4MB/s    in 2.2s    \n",
      "\n",
      "2019-11-26 18:20:11 (39.4 MB/s) - 'salary_12.csv' saved [92766526/92766526]\n",
      "\n"
     ]
    }
   ],
   "source": [
    "# get data file salary 2\n",
    "!wget https://datamanagement-groupwork3.s3.amazonaws.com/salary_2.csv"
   ]
  },
  {
   "cell_type": "code",
   "execution_count": 33,
   "metadata": {},
   "outputs": [],
   "source": [
    "# XSV tools are more efficient than csvstack\n",
    "!xsv cat rows salary_1.csv salary_2.csv > salary_c.csv"
   ]
  },
  {
   "cell_type": "code",
   "execution_count": 34,
   "metadata": {},
   "outputs": [
    {
     "name": "stdout",
     "output_type": "stream",
     "text": [
      "868358 salary_c.csv\n"
     ]
    }
   ],
   "source": [
    "# the results from stakced file is the same as the original data\n",
    "!wc -l salary_c.csv"
   ]
  },
  {
   "cell_type": "code",
   "execution_count": 35,
   "metadata": {},
   "outputs": [
    {
     "name": "stdout",
     "output_type": "stream",
     "text": [
      "  1. \"Authority Name\"\n",
      "\n",
      "\tType of data:          Text\n",
      "\tContains null values:  False\n",
      "\tUnique values:         6\n",
      "\tLongest value:         62 characters\n",
      "\tMost common values:    Metropolitan Transportation Authority (45672x)\n",
      "\t                       Erie County Medical Center Corporation (4257x)\n",
      "\t                       Long Island Power Authority (62x)\n",
      "\t                       Agriculture and New York State Horse Breeding Development Fund (3x)\n",
      "\t                       Erie County Fiscal Stability Authority (3x)\n",
      "\n",
      "  2. \"Fiscal Year End Date\"\n",
      "\n",
      "\tType of data:          Date\n",
      "\tContains null values:  False\n",
      "\tUnique values:         1\n",
      "\tSmallest value:        2018-12-31\n",
      "\tLargest value:         2018-12-31\n",
      "\tMost common values:    2018-12-31 (49999x)\n",
      "\n",
      "  3. \"Last Name\"\n",
      "\n",
      "\tType of data:          Text\n",
      "\tContains null values:  False\n",
      "\tUnique values:         18828\n",
      "\tLongest value:         23 characters\n",
      "\tMost common values:    Johnson (535x)\n",
      "\t                       Brown (523x)\n",
      "\t                       Jones (437x)\n",
      "\t                       Davis (289x)\n",
      "\t                       Gonzalez (266x)\n",
      "\n",
      "  4. \"Middle Initial\"\n",
      "\n",
      "\tType of data:          Text\n",
      "\tContains null values:  True (excluded from calculations)\n",
      "\tUnique values:         42\n",
      "\tLongest value:         1 characters\n",
      "\tMost common values:    None (18644x)\n",
      "\t                       A (4842x)\n",
      "\t                       M (3414x)\n",
      "\t                       J (3343x)\n",
      "\t                       L (2286x)\n",
      "\n",
      "  5. \"First Name\"\n",
      "\n",
      "\tType of data:          Text\n",
      "\tContains null values:  False\n",
      "\tUnique values:         10439\n",
      "\tLongest value:         20 characters\n",
      "\tMost common values:    Michael (1346x)\n",
      "\t                       John (898x)\n",
      "\t                       Joseph (798x)\n",
      "\t                       Anthony (733x)\n",
      "\t                       Robert (714x)\n",
      "\n",
      "  6. \"Title\"\n",
      "\n",
      "\tType of data:          Text\n",
      "\tContains null values:  False\n",
      "\tUnique values:         4155\n",
      "\tLongest value:         80 characters\n",
      "\tMost common values:    Bus Operator(Revenue Vehicle) (4635x)\n",
      "\t                       Train Operator (Rev.Vehicles) (2108x)\n",
      "\t                       Bus Operators (1398x)\n",
      "\t                       Conductor (1239x)\n",
      "\t                       Cleaner (Transit-Labor Class) (1089x)\n",
      "\n",
      "  7. \"Group\"\n",
      "\n",
      "\tType of data:          Text\n",
      "\tContains null values:  False\n",
      "\tUnique values:         6\n",
      "\tLongest value:         27 characters\n",
      "\tMost common values:    Operational (37133x)\n",
      "\t                       Professional (5618x)\n",
      "\t                       Managerial (3421x)\n",
      "\t                       Administrative and Clerical (2744x)\n",
      "\t                       Technical and Engineering (864x)\n",
      "\n",
      "  8. \"Department\"\n",
      "\n",
      "\tType of data:          Text\n",
      "\tContains null values:  False\n",
      "\tUnique values:         1592\n",
      "\tLongest value:         52 characters\n",
      "\tMost common values:    Road Passenger Crews (1073x)\n",
      "\t                       TandE Crews (858x)\n",
      "\t                       Station Environ and Ops Dist 4 (644x)\n",
      "\t                       Station Environ and Ops Dist 3 (640x)\n",
      "\t                       Station Environ and Ops Dist 1 (627x)\n",
      "\n",
      "  9. \"Pay Type\"\n",
      "\n",
      "\tType of data:          Text\n",
      "\tContains null values:  False\n",
      "\tUnique values:         2\n",
      "\tLongest value:         2 characters\n",
      "\tMost common values:    FT (48515x)\n",
      "\t                       PT (1484x)\n",
      "\n",
      " 10. \"Exempt Indicator\"\n",
      "\n",
      "\tType of data:          Boolean\n",
      "\tContains null values:  False\n",
      "\tUnique values:         2\n",
      "\tMost common values:    False (34091x)\n",
      "\t                       True (15908x)\n",
      "\n",
      " 11. \"Base Annualized Salary\"\n",
      "\n",
      "\tType of data:          Number\n",
      "\tContains null values:  False\n",
      "\tUnique values:         6689\n",
      "\tSmallest value:        0\n",
      "\tLargest value:         875,500.02\n",
      "\tSum:                   3,703,711,112.58\n",
      "\tMean:                  74,075.704\n",
      "\tMedian:                70,863.67\n",
      "\tStDev:                 25,124.447\n",
      "\tMost common values:    70,863.67 (5660x)\n",
      "\t                       75,399.85 (4180x)\n",
      "\t                       78,729.53 (1628x)\n",
      "\t                       60,064.39 (1439x)\n",
      "\t                       65,067.78 (1015x)\n",
      "\n",
      " 12. \"Actual Salary Paid\"\n",
      "\n",
      "\tType of data:          Number\n",
      "\tContains null values:  False\n",
      "\tUnique values:         47782\n",
      "\tSmallest value:        0\n",
      "\tLargest value:         875,009.94\n",
      "\tSum:                   3,409,052,253.16\n",
      "\tMean:                  68,182.409\n",
      "\tMedian:                71,769.22\n",
      "\tStDev:                 31,623.034\n",
      "\tMost common values:    0 (672x)\n",
      "\t                       64,858.82 (227x)\n",
      "\t                       2,098.64 (47x)\n",
      "\t                       1,366.52 (33x)\n",
      "\t                       87,001.98 (30x)\n",
      "\n",
      " 13. \"Overtime Paid\"\n",
      "\n",
      "\tType of data:          Number\n",
      "\tContains null values:  False\n",
      "\tUnique values:         40664\n",
      "\tSmallest value:        0\n",
      "\tLargest value:         344,146.93\n",
      "\tSum:                   765,965,738.19\n",
      "\tMean:                  15,319.621\n",
      "\tMedian:                7,564.38\n",
      "\tStDev:                 20,737.65\n",
      "\tMost common values:    0 (8703x)\n",
      "\t                       153.73 (19x)\n",
      "\t                       77.97 (12x)\n",
      "\t                       112.69 (12x)\n",
      "\t                       115.51 (9x)\n",
      "\n",
      " 14. \"Performance Bonus\"\n",
      "\n",
      "\tType of data:          Number\n",
      "\tContains null values:  False\n",
      "\tUnique values:         87\n",
      "\tSmallest value:        0\n",
      "\tLargest value:         48,000\n",
      "\tSum:                   2,379,791.14\n",
      "\tMean:                  47.597\n",
      "\tMedian:                0\n",
      "\tStDev:                 837.326\n",
      "\tMost common values:    0 (49322x)\n",
      "\t                       2,800 (303x)\n",
      "\t                       700 (42x)\n",
      "\t                       2,100 (25x)\n",
      "\t                       3,700 (24x)\n",
      "\n",
      " 15. \"Extra Pay\"\n",
      "\n",
      "\tType of data:          Number\n",
      "\tContains null values:  False\n",
      "\tUnique values:         22056\n",
      "\tSmallest value:        0\n",
      "\tLargest value:         209,998.98\n",
      "\tSum:                   88,254,247.52\n",
      "\tMean:                  1,765.12\n",
      "\tMedian:                470.29\n",
      "\tStDev:                 5,704.763\n",
      "\tMost common values:    0 (18409x)\n",
      "\t                       272.55 (240x)\n",
      "\t                       225.38 (214x)\n",
      "\t                       545.65 (202x)\n",
      "\t                       2,097.94 (176x)\n",
      "\n",
      " 16. \"Other Compensation\"\n",
      "\n",
      "\tType of data:          Number\n",
      "\tContains null values:  False\n",
      "\tUnique values:         25457\n",
      "\tSmallest value:        0\n",
      "\tLargest value:         260,000\n",
      "\tSum:                   55,560,591.07\n",
      "\tMean:                  1,111.234\n",
      "\tMedian:                279.15\n",
      "\tStDev:                 3,028.865\n",
      "\tMost common values:    0 (13744x)\n",
      "\t                       100 (2852x)\n",
      "\t                       50 (552x)\n",
      "\t                       500 (274x)\n",
      "\t                       85 (178x)\n",
      "\n",
      " 17. \"Total Compensation\"\n",
      "\n",
      "\tType of data:          Number\n",
      "\tContains null values:  False\n",
      "\tUnique values:         49216\n",
      "\tSmallest value:        0\n",
      "\tLargest value:         885,187.68\n",
      "\tSum:                   4,321,212,621.08\n",
      "\tMean:                  86,425.981\n",
      "\tMedian:                85,903.65\n",
      "\tStDev:                 43,108.466\n",
      "\tMost common values:    2,098.64 (41x)\n",
      "\t                       1,366.52 (33x)\n",
      "\t                       0 (21x)\n",
      "\t                       152.01 (19x)\n",
      "\t                       3,815.72 (18x)\n",
      "\n",
      " 18. \"Paid By Another Entity\"\n",
      "\n",
      "\tType of data:          Boolean\n",
      "\tContains null values:  False\n",
      "\tUnique values:         1\n",
      "\tMost common values:    False (49999x)\n",
      "\n",
      " 19. \"Paid by State or Local Government\"\n",
      "\n",
      "\tType of data:          Boolean\n",
      "\tContains null values:  False\n",
      "\tUnique values:         1\n",
      "\tMost common values:    False (49999x)\n",
      "\n",
      "Row count: 49999\n"
     ]
    }
   ],
   "source": [
    "# basic statistics of the wrangled data\n",
    "!head -n 50000 salary_c.csv | csvstat"
   ]
  },
  {
   "cell_type": "markdown",
   "metadata": {},
   "source": [
    "# Part Three: Create Star Schema"
   ]
  },
  {
   "cell_type": "markdown",
   "metadata": {},
   "source": [
    "### 3.1 Setup working environment"
   ]
  },
  {
   "cell_type": "code",
   "execution_count": 3,
   "metadata": {},
   "outputs": [],
   "source": [
    "%load_ext sql"
   ]
  },
  {
   "cell_type": "code",
   "execution_count": 36,
   "metadata": {},
   "outputs": [
    {
     "name": "stdout",
     "output_type": "stream",
     "text": [
      "perl: warning: Setting locale failed.\n",
      "perl: warning: Please check that your locale settings:\n",
      "\tLANGUAGE = (unset),\n",
      "\tLC_ALL = (unset),\n",
      "\tLC_CTYPE = \"UTF-8\",\n",
      "\tLANG = \"en_US.UTF-8\"\n",
      "    are supported and installed on your system.\n",
      "perl: warning: Falling back to a fallback locale (\"en_US.UTF-8\").\n",
      "dropdb: database removal failed: ERROR:  database \"week12\" is being accessed by other users\n",
      "DETAIL:  There is 1 other session using the database.\n"
     ]
    }
   ],
   "source": [
    "!dropdb -U student week12"
   ]
  },
  {
   "cell_type": "code",
   "execution_count": 37,
   "metadata": {},
   "outputs": [
    {
     "name": "stdout",
     "output_type": "stream",
     "text": [
      "perl: warning: Setting locale failed.\n",
      "perl: warning: Please check that your locale settings:\n",
      "\tLANGUAGE = (unset),\n",
      "\tLC_ALL = (unset),\n",
      "\tLC_CTYPE = \"UTF-8\",\n",
      "\tLANG = \"en_US.UTF-8\"\n",
      "    are supported and installed on your system.\n",
      "perl: warning: Falling back to a fallback locale (\"en_US.UTF-8\").\n",
      "createdb: database creation failed: ERROR:  database \"week12\" already exists\n"
     ]
    }
   ],
   "source": [
    "!createdb -U student week12"
   ]
  },
  {
   "cell_type": "code",
   "execution_count": 4,
   "metadata": {},
   "outputs": [
    {
     "data": {
      "text/plain": [
       "'Connected: student@week12'"
      ]
     },
     "execution_count": 4,
     "metadata": {},
     "output_type": "execute_result"
    }
   ],
   "source": [
    "%sql postgresql://student@/week12"
   ]
  },
  {
   "cell_type": "markdown",
   "metadata": {},
   "source": [
    "### 3.2 Create transactional table and import"
   ]
  },
  {
   "cell_type": "markdown",
   "metadata": {},
   "source": [
    "- Before creating the transactional table, we need to know the data type and maximum length of each attribute. We use \"xsv stat\" to complete this task. "
   ]
  },
  {
   "cell_type": "code",
   "execution_count": 38,
   "metadata": {},
   "outputs": [
    {
     "name": "stdout",
     "output_type": "stream",
     "text": [
      "field                              type     sum                 min                                                             max                                         min_length  max_length  mean                stddev\n",
      "Authority Name                     Unicode                      Agriculture and New York State Horse Breeding Development Fund  Westchester County Health Care Corporation  22          85                              \n",
      "Fiscal Year End Date               Unicode                      03/31/2011                                                      12/31/2018                                  10          10                              \n",
      "Last Name                          Unicode                       Abad, MD                                                       whipkey                                     1           28                              \n",
      "Middle Initial                     Unicode                      (                                                               z                                           0           1                               \n",
      "First Name                         Unicode                       Cho Wah, Amy                                                   shironald                                   1           27                              \n",
      "Title                              Unicode                       ACFO, Cap/Oper Constr/Eng Sup                                  seasonal employee                           3           91                              \n",
      "Group                              Unicode                      Administrative and Clerical                                     Technical and Engineering                   9           27                              \n",
      "Department                         Unicode                       ACTO STAFF, CAP SUPP                                           office of Professional Services             1           62                              \n",
      "Pay Type                           Unicode                      FT                                                              PT                                          2           2                               \n",
      "Exempt Indicator                   Unicode                      N                                                               Y                                           1           1                               \n",
      "Base Annualized Salary             Float    56543230646.01267   0                                                               1545000                                     4           10          65115.189542905224  31661.331887960943\n",
      "Actual Salary Paid                 Float    51772800647.295815  -8797.56                                                        1525269.39                                  4           10          59621.56192359797   35895.3435477479\n",
      "Overtime Paid                      Float    8193676168.780047   0                                                               344146.93                                   4           9           9435.83821951117    14597.272348998602\n",
      "Performance Bonus                  Float    73655363.06000035   0                                                               600000                                      4           9           84.82152278383154   2195.0333459383482\n",
      "Extra Pay                          Float    1839419465.760015   0                                                               752692.5                                    4           9           2118.2756236893542  6367.913689387004\n",
      "Other Compensation                 Float    606940688.0800349   -34928                                                          735124.72                                   4           9           698.9529514704121   3978.7600232230816\n",
      "Total Compensation                 Float    62486492332.96775   -11702.65                                                       2621677.18                                  4           10          71959.45024104927   44677.05299910629\n",
      "Paid By Another Entity             Unicode                      N                                                               Y                                           1           1                               \n",
      "Paid by State or Local Government  Unicode                      N                                                               Y                                           1           1                               \n"
     ]
    }
   ],
   "source": [
    "!xsv stats salary_c.csv | xsv table"
   ]
  },
  {
   "cell_type": "markdown",
   "metadata": {},
   "source": [
    "- According to the output above, the transactiaonl table \"salary\" is as follows"
   ]
  },
  {
   "cell_type": "code",
   "execution_count": 4,
   "metadata": {},
   "outputs": [
    {
     "name": "stdout",
     "output_type": "stream",
     "text": [
      " * postgresql://student@/week12\n",
      "Done.\n",
      "Done.\n"
     ]
    },
    {
     "data": {
      "text/plain": [
       "[]"
      ]
     },
     "execution_count": 4,
     "metadata": {},
     "output_type": "execute_result"
    }
   ],
   "source": [
    "%%sql\n",
    "DROP TABLE IF EXISTS salary;\n",
    "\n",
    "CREATE TABLE salary (\n",
    "    authority_name       VARCHAR(85),\n",
    "    fiscal_year_end_date DATE,\n",
    "    last_name            VARCHAR(30),\n",
    "    middle_initial       VARCHAR(1),\n",
    "    first_name           VARCHAR(30),\n",
    "    title                VARCHAR(100),\n",
    "    group_type           VARCHAR(30),\n",
    "    department           VARCHAR(70),\n",
    "    pay_type             VARCHAR(2),\n",
    "    exempt_indicator     BOOLEAN,\n",
    "    base_annualized_salary NUMERIC(10),\n",
    "    actual_salary_paid   NUMERIC(10),\n",
    "    overtime_paid        NUMERIC(10),\n",
    "    performance_bonus    NUMERIC(10),\n",
    "    extra_pay            NUMERIC(10),\n",
    "    other_compensation   NUMERIC(10),\n",
    "    total_compensation   NUMERIC(10),\n",
    "    paid_by_another_entity BOOLEAN, \n",
    "    paid_by_state_or_local_government BOOLEAN\n",
    ");"
   ]
  },
  {
   "cell_type": "code",
   "execution_count": 5,
   "metadata": {},
   "outputs": [],
   "source": [
    "!cp salary_c.csv /tmp/salary_c.csv"
   ]
  },
  {
   "cell_type": "code",
   "execution_count": 6,
   "metadata": {},
   "outputs": [
    {
     "name": "stdout",
     "output_type": "stream",
     "text": [
      " * postgresql://student@/week12\n",
      "868357 rows affected.\n"
     ]
    },
    {
     "data": {
      "text/plain": [
       "[]"
      ]
     },
     "execution_count": 6,
     "metadata": {},
     "output_type": "execute_result"
    }
   ],
   "source": [
    "%%sql\n",
    "COPY salary FROM '/tmp/salary_c.csv'\n",
    "CSV\n",
    "HEADER;"
   ]
  },
  {
   "cell_type": "markdown",
   "metadata": {},
   "source": [
    "### 3.3 Star Schema Visualization"
   ]
  },
  {
   "cell_type": "code",
   "execution_count": 1,
   "metadata": {},
   "outputs": [
    {
     "data": {
      "text/html": [
       "<img src=\"https://datamanagement-groupwork3.s3.amazonaws.com/star_schema.png\"/>"
      ],
      "text/plain": [
       "<IPython.core.display.Image object>"
      ]
     },
     "execution_count": 1,
     "metadata": {},
     "output_type": "execute_result"
    }
   ],
   "source": [
    "from IPython.display import Image\n",
    "Image(url= \"https://datamanagement-groupwork3.s3.amazonaws.com/star_schema.png\")"
   ]
  },
  {
   "cell_type": "markdown",
   "metadata": {},
   "source": [
    "### 3.4 Create dimensional table 1-- authority"
   ]
  },
  {
   "cell_type": "code",
   "execution_count": 7,
   "metadata": {},
   "outputs": [
    {
     "name": "stdout",
     "output_type": "stream",
     "text": [
      " * postgresql://student@/week12\n",
      "Done.\n",
      "Done.\n"
     ]
    },
    {
     "data": {
      "text/plain": [
       "[]"
      ]
     },
     "execution_count": 7,
     "metadata": {},
     "output_type": "execute_result"
    }
   ],
   "source": [
    "%%sql\n",
    "DROP TABLE IF EXISTS authority;\n",
    "\n",
    "CREATE TABLE authority(\n",
    "    key                SERIAL PRIMARY KEY,\n",
    "    authority          VARCHAR(85)\n",
    ")"
   ]
  },
  {
   "cell_type": "code",
   "execution_count": 8,
   "metadata": {},
   "outputs": [
    {
     "name": "stdout",
     "output_type": "stream",
     "text": [
      " * postgresql://student@/week12\n",
      "46 rows affected.\n"
     ]
    },
    {
     "data": {
      "text/plain": [
       "[]"
      ]
     },
     "execution_count": 8,
     "metadata": {},
     "output_type": "execute_result"
    }
   ],
   "source": [
    "%%sql\n",
    "INSERT INTO authority (authority)\n",
    "SELECT DISTINCT authority_name\n",
    "FROM salary"
   ]
  },
  {
   "cell_type": "code",
   "execution_count": 9,
   "metadata": {},
   "outputs": [
    {
     "name": "stdout",
     "output_type": "stream",
     "text": [
      " * postgresql://student@/week12\n",
      "Done.\n"
     ]
    },
    {
     "data": {
      "text/plain": [
       "[]"
      ]
     },
     "execution_count": 9,
     "metadata": {},
     "output_type": "execute_result"
    }
   ],
   "source": [
    "%%sql\n",
    "ALTER TABLE salary\n",
    "ADD COLUMN authority_key INTEGER,\n",
    "ADD CONSTRAINT fk_authority\n",
    "    FOREIGN KEY (authority_key)\n",
    "    REFERENCES authority (key);"
   ]
  },
  {
   "cell_type": "code",
   "execution_count": 10,
   "metadata": {},
   "outputs": [
    {
     "name": "stdout",
     "output_type": "stream",
     "text": [
      " * postgresql://student@/week12\n",
      "868357 rows affected.\n"
     ]
    },
    {
     "data": {
      "text/plain": [
       "[]"
      ]
     },
     "execution_count": 10,
     "metadata": {},
     "output_type": "execute_result"
    }
   ],
   "source": [
    "%%sql\n",
    "UPDATE salary\n",
    "SET authority_key = authority.key\n",
    "FROM authority\n",
    "WHERE salary.authority_name = authority.authority;"
   ]
  },
  {
   "cell_type": "code",
   "execution_count": 11,
   "metadata": {},
   "outputs": [
    {
     "name": "stdout",
     "output_type": "stream",
     "text": [
      " * postgresql://student@/week12\n",
      "3 rows affected.\n"
     ]
    },
    {
     "data": {
      "text/html": [
       "<table>\n",
       "    <tr>\n",
       "        <th>authority_name</th>\n",
       "        <th>fiscal_year_end_date</th>\n",
       "        <th>last_name</th>\n",
       "        <th>middle_initial</th>\n",
       "        <th>first_name</th>\n",
       "        <th>title</th>\n",
       "        <th>group_type</th>\n",
       "        <th>department</th>\n",
       "        <th>pay_type</th>\n",
       "        <th>exempt_indicator</th>\n",
       "        <th>base_annualized_salary</th>\n",
       "        <th>actual_salary_paid</th>\n",
       "        <th>overtime_paid</th>\n",
       "        <th>performance_bonus</th>\n",
       "        <th>extra_pay</th>\n",
       "        <th>other_compensation</th>\n",
       "        <th>total_compensation</th>\n",
       "        <th>paid_by_another_entity</th>\n",
       "        <th>paid_by_state_or_local_government</th>\n",
       "        <th>authority_key</th>\n",
       "    </tr>\n",
       "    <tr>\n",
       "        <td>Metropolitan Transportation Authority</td>\n",
       "        <td>2018-12-31</td>\n",
       "        <td>Drakakis</td>\n",
       "        <td>J</td>\n",
       "        <td>Peter</td>\n",
       "        <td>Station Agent - NonAFC</td>\n",
       "        <td>Operational</td>\n",
       "        <td>Timekeeping</td>\n",
       "        <td>FT</td>\n",
       "        <td>False</td>\n",
       "        <td>61963</td>\n",
       "        <td>62242</td>\n",
       "        <td>2634</td>\n",
       "        <td>0</td>\n",
       "        <td>233</td>\n",
       "        <td>242</td>\n",
       "        <td>65350</td>\n",
       "        <td>False</td>\n",
       "        <td>False</td>\n",
       "        <td>42</td>\n",
       "    </tr>\n",
       "    <tr>\n",
       "        <td>Metropolitan Transportation Authority</td>\n",
       "        <td>2018-12-31</td>\n",
       "        <td>Dzierzanowski</td>\n",
       "        <td>M</td>\n",
       "        <td>Matthew</td>\n",
       "        <td>Conductor</td>\n",
       "        <td>Operational</td>\n",
       "        <td>TandE Crews</td>\n",
       "        <td>FT</td>\n",
       "        <td>True</td>\n",
       "        <td>90688</td>\n",
       "        <td>112767</td>\n",
       "        <td>9528</td>\n",
       "        <td>0</td>\n",
       "        <td>0</td>\n",
       "        <td>851</td>\n",
       "        <td>123146</td>\n",
       "        <td>False</td>\n",
       "        <td>False</td>\n",
       "        <td>42</td>\n",
       "    </tr>\n",
       "    <tr>\n",
       "        <td>Metropolitan Transportation Authority</td>\n",
       "        <td>2018-12-31</td>\n",
       "        <td>Ellis</td>\n",
       "        <td>W</td>\n",
       "        <td>Larry</td>\n",
       "        <td>Coach Cleaner</td>\n",
       "        <td>Operational</td>\n",
       "        <td>GCT Car Cleaners</td>\n",
       "        <td>FT</td>\n",
       "        <td>True</td>\n",
       "        <td>63022</td>\n",
       "        <td>55247</td>\n",
       "        <td>1102</td>\n",
       "        <td>0</td>\n",
       "        <td>0</td>\n",
       "        <td>407</td>\n",
       "        <td>56755</td>\n",
       "        <td>False</td>\n",
       "        <td>False</td>\n",
       "        <td>42</td>\n",
       "    </tr>\n",
       "</table>"
      ],
      "text/plain": [
       "[('Metropolitan Transportation Authority', datetime.date(2018, 12, 31), 'Drakakis', 'J', 'Peter', 'Station Agent - NonAFC', 'Operational', 'Timekeeping', 'FT', False, Decimal('61963'), Decimal('62242'), Decimal('2634'), Decimal('0'), Decimal('233'), Decimal('242'), Decimal('65350'), False, False, 42),\n",
       " ('Metropolitan Transportation Authority', datetime.date(2018, 12, 31), 'Dzierzanowski', 'M', 'Matthew', 'Conductor', 'Operational', 'TandE Crews', 'FT', True, Decimal('90688'), Decimal('112767'), Decimal('9528'), Decimal('0'), Decimal('0'), Decimal('851'), Decimal('123146'), False, False, 42),\n",
       " ('Metropolitan Transportation Authority', datetime.date(2018, 12, 31), 'Ellis', 'W', 'Larry', 'Coach Cleaner', 'Operational', 'GCT Car Cleaners', 'FT', True, Decimal('63022'), Decimal('55247'), Decimal('1102'), Decimal('0'), Decimal('0'), Decimal('407'), Decimal('56755'), False, False, 42)]"
      ]
     },
     "execution_count": 11,
     "metadata": {},
     "output_type": "execute_result"
    }
   ],
   "source": [
    "%%sql\n",
    "SELECT * FROM salary\n",
    "LIMIT 3;"
   ]
  },
  {
   "cell_type": "markdown",
   "metadata": {},
   "source": [
    "### 3.5 Create dimensional table 2--- group_type"
   ]
  },
  {
   "cell_type": "code",
   "execution_count": 12,
   "metadata": {},
   "outputs": [
    {
     "name": "stdout",
     "output_type": "stream",
     "text": [
      " * postgresql://student@/week12\n",
      "Done.\n",
      "Done.\n"
     ]
    },
    {
     "data": {
      "text/plain": [
       "[]"
      ]
     },
     "execution_count": 12,
     "metadata": {},
     "output_type": "execute_result"
    }
   ],
   "source": [
    "%%sql\n",
    "DROP TABLE IF EXISTS group_type;\n",
    "\n",
    "CREATE TABLE group_type(\n",
    "    key                SERIAL PRIMARY KEY,\n",
    "    group_type         VARCHAR(30)\n",
    ")"
   ]
  },
  {
   "cell_type": "code",
   "execution_count": 13,
   "metadata": {},
   "outputs": [
    {
     "name": "stdout",
     "output_type": "stream",
     "text": [
      " * postgresql://student@/week12\n",
      "6 rows affected.\n"
     ]
    },
    {
     "data": {
      "text/plain": [
       "[]"
      ]
     },
     "execution_count": 13,
     "metadata": {},
     "output_type": "execute_result"
    }
   ],
   "source": [
    "%%sql\n",
    "INSERT INTO group_type (group_type)\n",
    "SELECT DISTINCT group_type\n",
    "FROM salary"
   ]
  },
  {
   "cell_type": "code",
   "execution_count": 14,
   "metadata": {},
   "outputs": [
    {
     "name": "stdout",
     "output_type": "stream",
     "text": [
      " * postgresql://student@/week12\n",
      "Done.\n"
     ]
    },
    {
     "data": {
      "text/plain": [
       "[]"
      ]
     },
     "execution_count": 14,
     "metadata": {},
     "output_type": "execute_result"
    }
   ],
   "source": [
    "%%sql\n",
    "ALTER TABLE salary\n",
    "ADD COLUMN group_key INTEGER,\n",
    "ADD CONSTRAINT fk_group\n",
    "    FOREIGN KEY (group_key)\n",
    "    REFERENCES group_type (key);"
   ]
  },
  {
   "cell_type": "code",
   "execution_count": 15,
   "metadata": {},
   "outputs": [
    {
     "name": "stdout",
     "output_type": "stream",
     "text": [
      " * postgresql://student@/week12\n",
      "868357 rows affected.\n"
     ]
    },
    {
     "data": {
      "text/plain": [
       "[]"
      ]
     },
     "execution_count": 15,
     "metadata": {},
     "output_type": "execute_result"
    }
   ],
   "source": [
    "%%sql\n",
    "UPDATE salary\n",
    "SET group_key = group_type.key\n",
    "FROM group_type\n",
    "WHERE salary.group_type = group_type.group_type;"
   ]
  },
  {
   "cell_type": "code",
   "execution_count": 16,
   "metadata": {},
   "outputs": [
    {
     "name": "stdout",
     "output_type": "stream",
     "text": [
      " * postgresql://student@/week12\n",
      "3 rows affected.\n"
     ]
    },
    {
     "data": {
      "text/html": [
       "<table>\n",
       "    <tr>\n",
       "        <th>authority_name</th>\n",
       "        <th>fiscal_year_end_date</th>\n",
       "        <th>last_name</th>\n",
       "        <th>middle_initial</th>\n",
       "        <th>first_name</th>\n",
       "        <th>title</th>\n",
       "        <th>group_type</th>\n",
       "        <th>department</th>\n",
       "        <th>pay_type</th>\n",
       "        <th>exempt_indicator</th>\n",
       "        <th>base_annualized_salary</th>\n",
       "        <th>actual_salary_paid</th>\n",
       "        <th>overtime_paid</th>\n",
       "        <th>performance_bonus</th>\n",
       "        <th>extra_pay</th>\n",
       "        <th>other_compensation</th>\n",
       "        <th>total_compensation</th>\n",
       "        <th>paid_by_another_entity</th>\n",
       "        <th>paid_by_state_or_local_government</th>\n",
       "        <th>authority_key</th>\n",
       "        <th>group_key</th>\n",
       "    </tr>\n",
       "    <tr>\n",
       "        <td>Metropolitan Transportation Authority</td>\n",
       "        <td>2018-12-31</td>\n",
       "        <td>Ellis</td>\n",
       "        <td>W</td>\n",
       "        <td>Larry</td>\n",
       "        <td>Coach Cleaner</td>\n",
       "        <td>Operational</td>\n",
       "        <td>GCT Car Cleaners</td>\n",
       "        <td>FT</td>\n",
       "        <td>True</td>\n",
       "        <td>63022</td>\n",
       "        <td>55247</td>\n",
       "        <td>1102</td>\n",
       "        <td>0</td>\n",
       "        <td>0</td>\n",
       "        <td>407</td>\n",
       "        <td>56755</td>\n",
       "        <td>False</td>\n",
       "        <td>False</td>\n",
       "        <td>42</td>\n",
       "        <td>1</td>\n",
       "    </tr>\n",
       "    <tr>\n",
       "        <td>Metropolitan Transportation Authority</td>\n",
       "        <td>2018-12-31</td>\n",
       "        <td>Fehrman</td>\n",
       "        <td>C</td>\n",
       "        <td>David</td>\n",
       "        <td>Gang Foreman-ME</td>\n",
       "        <td>Operational</td>\n",
       "        <td>Hillside Yard</td>\n",
       "        <td>FT</td>\n",
       "        <td>True</td>\n",
       "        <td>102292</td>\n",
       "        <td>106295</td>\n",
       "        <td>66665</td>\n",
       "        <td>0</td>\n",
       "        <td>0</td>\n",
       "        <td>100</td>\n",
       "        <td>173060</td>\n",
       "        <td>False</td>\n",
       "        <td>False</td>\n",
       "        <td>42</td>\n",
       "        <td>1</td>\n",
       "    </tr>\n",
       "    <tr>\n",
       "        <td>Metropolitan Transportation Authority</td>\n",
       "        <td>2018-12-31</td>\n",
       "        <td>Felisca</td>\n",
       "        <td>E</td>\n",
       "        <td>Marc</td>\n",
       "        <td>Bus Operator TWU-100</td>\n",
       "        <td>Operational</td>\n",
       "        <td>CP-Svc Avail</td>\n",
       "        <td>FT</td>\n",
       "        <td>False</td>\n",
       "        <td>49605</td>\n",
       "        <td>2099</td>\n",
       "        <td>66</td>\n",
       "        <td>0</td>\n",
       "        <td>0</td>\n",
       "        <td>0</td>\n",
       "        <td>2164</td>\n",
       "        <td>False</td>\n",
       "        <td>False</td>\n",
       "        <td>42</td>\n",
       "        <td>1</td>\n",
       "    </tr>\n",
       "</table>"
      ],
      "text/plain": [
       "[('Metropolitan Transportation Authority', datetime.date(2018, 12, 31), 'Ellis', 'W', 'Larry', 'Coach Cleaner', 'Operational', 'GCT Car Cleaners', 'FT', True, Decimal('63022'), Decimal('55247'), Decimal('1102'), Decimal('0'), Decimal('0'), Decimal('407'), Decimal('56755'), False, False, 42, 1),\n",
       " ('Metropolitan Transportation Authority', datetime.date(2018, 12, 31), 'Fehrman', 'C', 'David', 'Gang Foreman-ME', 'Operational', 'Hillside Yard', 'FT', True, Decimal('102292'), Decimal('106295'), Decimal('66665'), Decimal('0'), Decimal('0'), Decimal('100'), Decimal('173060'), False, False, 42, 1),\n",
       " ('Metropolitan Transportation Authority', datetime.date(2018, 12, 31), 'Felisca', 'E', 'Marc', 'Bus Operator TWU-100', 'Operational', 'CP-Svc Avail', 'FT', False, Decimal('49605'), Decimal('2099'), Decimal('66'), Decimal('0'), Decimal('0'), Decimal('0'), Decimal('2164'), False, False, 42, 1)]"
      ]
     },
     "execution_count": 16,
     "metadata": {},
     "output_type": "execute_result"
    }
   ],
   "source": [
    "%%sql\n",
    "SELECT * FROM salary\n",
    "LIMIT 3;"
   ]
  },
  {
   "cell_type": "markdown",
   "metadata": {},
   "source": [
    "### 3.6 Create dimensional table 3--- department"
   ]
  },
  {
   "cell_type": "code",
   "execution_count": 17,
   "metadata": {},
   "outputs": [
    {
     "name": "stdout",
     "output_type": "stream",
     "text": [
      " * postgresql://student@/week12\n",
      "Done.\n",
      "Done.\n"
     ]
    },
    {
     "data": {
      "text/plain": [
       "[]"
      ]
     },
     "execution_count": 17,
     "metadata": {},
     "output_type": "execute_result"
    }
   ],
   "source": [
    "%%sql\n",
    "DROP TABLE IF EXISTS department;\n",
    "\n",
    "CREATE TABLE department(\n",
    "    key                SERIAL PRIMARY KEY,\n",
    "    department         VARCHAR(70)\n",
    ")"
   ]
  },
  {
   "cell_type": "code",
   "execution_count": 18,
   "metadata": {},
   "outputs": [
    {
     "name": "stdout",
     "output_type": "stream",
     "text": [
      " * postgresql://student@/week12\n",
      "5887 rows affected.\n"
     ]
    },
    {
     "data": {
      "text/plain": [
       "[]"
      ]
     },
     "execution_count": 18,
     "metadata": {},
     "output_type": "execute_result"
    }
   ],
   "source": [
    "%%sql\n",
    "INSERT INTO department (department)\n",
    "SELECT DISTINCT department\n",
    "FROM salary"
   ]
  },
  {
   "cell_type": "code",
   "execution_count": 19,
   "metadata": {},
   "outputs": [
    {
     "name": "stdout",
     "output_type": "stream",
     "text": [
      " * postgresql://student@/week12\n",
      "Done.\n"
     ]
    },
    {
     "data": {
      "text/plain": [
       "[]"
      ]
     },
     "execution_count": 19,
     "metadata": {},
     "output_type": "execute_result"
    }
   ],
   "source": [
    "%%sql\n",
    "ALTER TABLE salary\n",
    "ADD COLUMN department_key INTEGER,\n",
    "ADD CONSTRAINT fk_department\n",
    "    FOREIGN KEY (department_key)\n",
    "    REFERENCES department (key);"
   ]
  },
  {
   "cell_type": "code",
   "execution_count": 20,
   "metadata": {},
   "outputs": [
    {
     "name": "stdout",
     "output_type": "stream",
     "text": [
      " * postgresql://student@/week12\n",
      "868357 rows affected.\n"
     ]
    },
    {
     "data": {
      "text/plain": [
       "[]"
      ]
     },
     "execution_count": 20,
     "metadata": {},
     "output_type": "execute_result"
    }
   ],
   "source": [
    "%%sql\n",
    "UPDATE salary\n",
    "SET department_key = department.key\n",
    "FROM department\n",
    "WHERE salary.department = department.department;"
   ]
  },
  {
   "cell_type": "code",
   "execution_count": 21,
   "metadata": {},
   "outputs": [
    {
     "name": "stdout",
     "output_type": "stream",
     "text": [
      " * postgresql://student@/week12\n",
      "3 rows affected.\n"
     ]
    },
    {
     "data": {
      "text/html": [
       "<table>\n",
       "    <tr>\n",
       "        <th>authority_name</th>\n",
       "        <th>fiscal_year_end_date</th>\n",
       "        <th>last_name</th>\n",
       "        <th>middle_initial</th>\n",
       "        <th>first_name</th>\n",
       "        <th>title</th>\n",
       "        <th>group_type</th>\n",
       "        <th>department</th>\n",
       "        <th>pay_type</th>\n",
       "        <th>exempt_indicator</th>\n",
       "        <th>base_annualized_salary</th>\n",
       "        <th>actual_salary_paid</th>\n",
       "        <th>overtime_paid</th>\n",
       "        <th>performance_bonus</th>\n",
       "        <th>extra_pay</th>\n",
       "        <th>other_compensation</th>\n",
       "        <th>total_compensation</th>\n",
       "        <th>paid_by_another_entity</th>\n",
       "        <th>paid_by_state_or_local_government</th>\n",
       "        <th>authority_key</th>\n",
       "        <th>group_key</th>\n",
       "        <th>department_key</th>\n",
       "    </tr>\n",
       "    <tr>\n",
       "        <td>Metropolitan Transportation Authority</td>\n",
       "        <td>2018-12-31</td>\n",
       "        <td>Fehrman</td>\n",
       "        <td>C</td>\n",
       "        <td>David</td>\n",
       "        <td>Gang Foreman-ME</td>\n",
       "        <td>Operational</td>\n",
       "        <td>Hillside Yard</td>\n",
       "        <td>FT</td>\n",
       "        <td>True</td>\n",
       "        <td>102292</td>\n",
       "        <td>106295</td>\n",
       "        <td>66665</td>\n",
       "        <td>0</td>\n",
       "        <td>0</td>\n",
       "        <td>100</td>\n",
       "        <td>173060</td>\n",
       "        <td>False</td>\n",
       "        <td>False</td>\n",
       "        <td>42</td>\n",
       "        <td>1</td>\n",
       "        <td>3915</td>\n",
       "    </tr>\n",
       "    <tr>\n",
       "        <td>Metropolitan Transportation Authority</td>\n",
       "        <td>2018-12-31</td>\n",
       "        <td>Felisca</td>\n",
       "        <td>E</td>\n",
       "        <td>Marc</td>\n",
       "        <td>Bus Operator TWU-100</td>\n",
       "        <td>Operational</td>\n",
       "        <td>CP-Svc Avail</td>\n",
       "        <td>FT</td>\n",
       "        <td>False</td>\n",
       "        <td>49605</td>\n",
       "        <td>2099</td>\n",
       "        <td>66</td>\n",
       "        <td>0</td>\n",
       "        <td>0</td>\n",
       "        <td>0</td>\n",
       "        <td>2164</td>\n",
       "        <td>False</td>\n",
       "        <td>False</td>\n",
       "        <td>42</td>\n",
       "        <td>1</td>\n",
       "        <td>3195</td>\n",
       "    </tr>\n",
       "    <tr>\n",
       "        <td>Metropolitan Transportation Authority</td>\n",
       "        <td>2018-12-31</td>\n",
       "        <td>Ferrigno</td>\n",
       "        <td>A</td>\n",
       "        <td>Ricky</td>\n",
       "        <td>Laborer</td>\n",
       "        <td>Operational</td>\n",
       "        <td>Stamford Shop</td>\n",
       "        <td>FT</td>\n",
       "        <td>True</td>\n",
       "        <td>66721</td>\n",
       "        <td>66338</td>\n",
       "        <td>53</td>\n",
       "        <td>0</td>\n",
       "        <td>1607</td>\n",
       "        <td>200</td>\n",
       "        <td>68198</td>\n",
       "        <td>False</td>\n",
       "        <td>False</td>\n",
       "        <td>42</td>\n",
       "        <td>1</td>\n",
       "        <td>537</td>\n",
       "    </tr>\n",
       "</table>"
      ],
      "text/plain": [
       "[('Metropolitan Transportation Authority', datetime.date(2018, 12, 31), 'Fehrman', 'C', 'David', 'Gang Foreman-ME', 'Operational', 'Hillside Yard', 'FT', True, Decimal('102292'), Decimal('106295'), Decimal('66665'), Decimal('0'), Decimal('0'), Decimal('100'), Decimal('173060'), False, False, 42, 1, 3915),\n",
       " ('Metropolitan Transportation Authority', datetime.date(2018, 12, 31), 'Felisca', 'E', 'Marc', 'Bus Operator TWU-100', 'Operational', 'CP-Svc Avail', 'FT', False, Decimal('49605'), Decimal('2099'), Decimal('66'), Decimal('0'), Decimal('0'), Decimal('0'), Decimal('2164'), False, False, 42, 1, 3195),\n",
       " ('Metropolitan Transportation Authority', datetime.date(2018, 12, 31), 'Ferrigno', 'A', 'Ricky', 'Laborer', 'Operational', 'Stamford Shop', 'FT', True, Decimal('66721'), Decimal('66338'), Decimal('53'), Decimal('0'), Decimal('1607'), Decimal('200'), Decimal('68198'), False, False, 42, 1, 537)]"
      ]
     },
     "execution_count": 21,
     "metadata": {},
     "output_type": "execute_result"
    }
   ],
   "source": [
    "%%sql\n",
    "SELECT * FROM salary\n",
    "LIMIT 3;"
   ]
  },
  {
   "cell_type": "markdown",
   "metadata": {},
   "source": [
    "### 3.7 Create dimensional table 4--- title"
   ]
  },
  {
   "cell_type": "code",
   "execution_count": 22,
   "metadata": {},
   "outputs": [
    {
     "name": "stdout",
     "output_type": "stream",
     "text": [
      " * postgresql://student@/week12\n",
      "Done.\n",
      "Done.\n"
     ]
    },
    {
     "data": {
      "text/plain": [
       "[]"
      ]
     },
     "execution_count": 22,
     "metadata": {},
     "output_type": "execute_result"
    }
   ],
   "source": [
    "%%sql\n",
    "DROP TABLE IF EXISTS title;\n",
    "\n",
    "CREATE TABLE title(\n",
    "    key           SERIAL PRIMARY KEY,\n",
    "    title         VARCHAR(100)\n",
    ")"
   ]
  },
  {
   "cell_type": "code",
   "execution_count": 23,
   "metadata": {},
   "outputs": [
    {
     "name": "stdout",
     "output_type": "stream",
     "text": [
      " * postgresql://student@/week12\n",
      "23165 rows affected.\n"
     ]
    },
    {
     "data": {
      "text/plain": [
       "[]"
      ]
     },
     "execution_count": 23,
     "metadata": {},
     "output_type": "execute_result"
    }
   ],
   "source": [
    "%%sql\n",
    "INSERT INTO title (title)\n",
    "SELECT DISTINCT title\n",
    "FROM salary"
   ]
  },
  {
   "cell_type": "code",
   "execution_count": 24,
   "metadata": {},
   "outputs": [
    {
     "name": "stdout",
     "output_type": "stream",
     "text": [
      " * postgresql://student@/week12\n",
      "Done.\n"
     ]
    },
    {
     "data": {
      "text/plain": [
       "[]"
      ]
     },
     "execution_count": 24,
     "metadata": {},
     "output_type": "execute_result"
    }
   ],
   "source": [
    "%%sql\n",
    "ALTER TABLE salary\n",
    "ADD COLUMN title_key INTEGER,\n",
    "ADD CONSTRAINT fk_title\n",
    "    FOREIGN KEY (title_key)\n",
    "    REFERENCES title (key);"
   ]
  },
  {
   "cell_type": "code",
   "execution_count": 25,
   "metadata": {},
   "outputs": [
    {
     "name": "stdout",
     "output_type": "stream",
     "text": [
      " * postgresql://student@/week12\n",
      "868357 rows affected.\n"
     ]
    },
    {
     "data": {
      "text/plain": [
       "[]"
      ]
     },
     "execution_count": 25,
     "metadata": {},
     "output_type": "execute_result"
    }
   ],
   "source": [
    "%%sql\n",
    "UPDATE salary\n",
    "SET title_key = title.key\n",
    "FROM title\n",
    "WHERE salary.title = title.title;"
   ]
  },
  {
   "cell_type": "code",
   "execution_count": 26,
   "metadata": {},
   "outputs": [
    {
     "name": "stdout",
     "output_type": "stream",
     "text": [
      " * postgresql://student@/week12\n",
      "3 rows affected.\n"
     ]
    },
    {
     "data": {
      "text/html": [
       "<table>\n",
       "    <tr>\n",
       "        <th>authority_name</th>\n",
       "        <th>fiscal_year_end_date</th>\n",
       "        <th>last_name</th>\n",
       "        <th>middle_initial</th>\n",
       "        <th>first_name</th>\n",
       "        <th>title</th>\n",
       "        <th>group_type</th>\n",
       "        <th>department</th>\n",
       "        <th>pay_type</th>\n",
       "        <th>exempt_indicator</th>\n",
       "        <th>base_annualized_salary</th>\n",
       "        <th>actual_salary_paid</th>\n",
       "        <th>overtime_paid</th>\n",
       "        <th>performance_bonus</th>\n",
       "        <th>extra_pay</th>\n",
       "        <th>other_compensation</th>\n",
       "        <th>total_compensation</th>\n",
       "        <th>paid_by_another_entity</th>\n",
       "        <th>paid_by_state_or_local_government</th>\n",
       "        <th>authority_key</th>\n",
       "        <th>group_key</th>\n",
       "        <th>department_key</th>\n",
       "        <th>title_key</th>\n",
       "    </tr>\n",
       "    <tr>\n",
       "        <td>Metropolitan Transportation Authority</td>\n",
       "        <td>2018-12-31</td>\n",
       "        <td>Ferrigno</td>\n",
       "        <td>A</td>\n",
       "        <td>Ricky</td>\n",
       "        <td>Laborer</td>\n",
       "        <td>Operational</td>\n",
       "        <td>Stamford Shop</td>\n",
       "        <td>FT</td>\n",
       "        <td>True</td>\n",
       "        <td>66721</td>\n",
       "        <td>66338</td>\n",
       "        <td>53</td>\n",
       "        <td>0</td>\n",
       "        <td>1607</td>\n",
       "        <td>200</td>\n",
       "        <td>68198</td>\n",
       "        <td>False</td>\n",
       "        <td>False</td>\n",
       "        <td>42</td>\n",
       "        <td>1</td>\n",
       "        <td>537</td>\n",
       "        <td>6359</td>\n",
       "    </tr>\n",
       "    <tr>\n",
       "        <td>Metropolitan Transportation Authority</td>\n",
       "        <td>2018-12-31</td>\n",
       "        <td>Frazier</td>\n",
       "        <td>D</td>\n",
       "        <td>Jason</td>\n",
       "        <td>Bus Operators</td>\n",
       "        <td>Operational</td>\n",
       "        <td>Spring Creek-Svc Avail</td>\n",
       "        <td>FT</td>\n",
       "        <td>False</td>\n",
       "        <td>66127</td>\n",
       "        <td>0</td>\n",
       "        <td>0</td>\n",
       "        <td>0</td>\n",
       "        <td>0</td>\n",
       "        <td>11140</td>\n",
       "        <td>11140</td>\n",
       "        <td>False</td>\n",
       "        <td>False</td>\n",
       "        <td>42</td>\n",
       "        <td>1</td>\n",
       "        <td>5763</td>\n",
       "        <td>18922</td>\n",
       "    </tr>\n",
       "    <tr>\n",
       "        <td>Metropolitan Transportation Authority</td>\n",
       "        <td>2018-12-31</td>\n",
       "        <td>Fuentes</td>\n",
       "        <td>D</td>\n",
       "        <td>Eddie</td>\n",
       "        <td>BTO</td>\n",
       "        <td>Operational</td>\n",
       "        <td>OPS Verrazano-Narr. Br. Ops</td>\n",
       "        <td>FT</td>\n",
       "        <td>False</td>\n",
       "        <td>65037</td>\n",
       "        <td>12473</td>\n",
       "        <td>1498</td>\n",
       "        <td>0</td>\n",
       "        <td>0</td>\n",
       "        <td>0</td>\n",
       "        <td>13971</td>\n",
       "        <td>False</td>\n",
       "        <td>False</td>\n",
       "        <td>42</td>\n",
       "        <td>1</td>\n",
       "        <td>5596</td>\n",
       "        <td>2094</td>\n",
       "    </tr>\n",
       "</table>"
      ],
      "text/plain": [
       "[('Metropolitan Transportation Authority', datetime.date(2018, 12, 31), 'Ferrigno', 'A', 'Ricky', 'Laborer', 'Operational', 'Stamford Shop', 'FT', True, Decimal('66721'), Decimal('66338'), Decimal('53'), Decimal('0'), Decimal('1607'), Decimal('200'), Decimal('68198'), False, False, 42, 1, 537, 6359),\n",
       " ('Metropolitan Transportation Authority', datetime.date(2018, 12, 31), 'Frazier', 'D', 'Jason', 'Bus Operators', 'Operational', 'Spring Creek-Svc Avail', 'FT', False, Decimal('66127'), Decimal('0'), Decimal('0'), Decimal('0'), Decimal('0'), Decimal('11140'), Decimal('11140'), False, False, 42, 1, 5763, 18922),\n",
       " ('Metropolitan Transportation Authority', datetime.date(2018, 12, 31), 'Fuentes', 'D', 'Eddie', 'BTO', 'Operational', 'OPS Verrazano-Narr. Br. Ops', 'FT', False, Decimal('65037'), Decimal('12473'), Decimal('1498'), Decimal('0'), Decimal('0'), Decimal('0'), Decimal('13971'), False, False, 42, 1, 5596, 2094)]"
      ]
     },
     "execution_count": 26,
     "metadata": {},
     "output_type": "execute_result"
    }
   ],
   "source": [
    "%%sql\n",
    "SELECT * FROM salary\n",
    "LIMIT 3;"
   ]
  },
  {
   "cell_type": "markdown",
   "metadata": {},
   "source": [
    "### 3.8 Create  dimensional table 5---pay_type"
   ]
  },
  {
   "cell_type": "code",
   "execution_count": 31,
   "metadata": {},
   "outputs": [
    {
     "name": "stdout",
     "output_type": "stream",
     "text": [
      " * postgresql://student@/week12\n",
      "Done.\n",
      "Done.\n"
     ]
    },
    {
     "data": {
      "text/plain": [
       "[]"
      ]
     },
     "execution_count": 31,
     "metadata": {},
     "output_type": "execute_result"
    }
   ],
   "source": [
    "%%sql\n",
    "DROP TABLE IF EXISTS pay_type;\n",
    "\n",
    "CREATE TABLE pay_type (\n",
    "    key SERIAL PRIMARY KEY,\n",
    "    pay_type VARCHAR(2),\n",
    "    pay_type_str VARCHAR(9)\n",
    ");"
   ]
  },
  {
   "cell_type": "code",
   "execution_count": 32,
   "metadata": {},
   "outputs": [
    {
     "name": "stdout",
     "output_type": "stream",
     "text": [
      " * postgresql://student@/week12\n",
      "2 rows affected.\n"
     ]
    },
    {
     "data": {
      "text/plain": [
       "[]"
      ]
     },
     "execution_count": 32,
     "metadata": {},
     "output_type": "execute_result"
    }
   ],
   "source": [
    "%%sql\n",
    "INSERT INTO pay_type (pay_type, pay_type_str)\n",
    "SELECT DISTINCT pay_type,\n",
    "    CASE WHEN pay_type = 'FT'\n",
    "    THEN 'Full-time' \n",
    "    ELSE 'Part-time'\n",
    "    END AS pay_type_str\n",
    "FROM salary"
   ]
  },
  {
   "cell_type": "code",
   "execution_count": 33,
   "metadata": {},
   "outputs": [
    {
     "name": "stdout",
     "output_type": "stream",
     "text": [
      " * postgresql://student@/week12\n",
      "Done.\n"
     ]
    },
    {
     "data": {
      "text/plain": [
       "[]"
      ]
     },
     "execution_count": 33,
     "metadata": {},
     "output_type": "execute_result"
    }
   ],
   "source": [
    "%%sql\n",
    "ALTER TABLE salary\n",
    "ADD COLUMN pay_type_key INTEGER,\n",
    "ADD CONSTRAINT fk_pay_type\n",
    "    FOREIGN KEY (pay_type_key)\n",
    "    REFERENCES pay_type (key);"
   ]
  },
  {
   "cell_type": "code",
   "execution_count": 35,
   "metadata": {},
   "outputs": [
    {
     "name": "stdout",
     "output_type": "stream",
     "text": [
      " * postgresql://student@/week12\n",
      "868357 rows affected.\n"
     ]
    },
    {
     "data": {
      "text/plain": [
       "[]"
      ]
     },
     "execution_count": 35,
     "metadata": {},
     "output_type": "execute_result"
    }
   ],
   "source": [
    "%%sql\n",
    "UPDATE salary\n",
    "SET pay_type_key = pay_type.key\n",
    "FROM pay_type\n",
    "WHERE salary.pay_type = pay_type.pay_type;"
   ]
  },
  {
   "cell_type": "markdown",
   "metadata": {},
   "source": [
    "### 3.9 Ceate dimensional table 6---date"
   ]
  },
  {
   "cell_type": "code",
   "execution_count": 36,
   "metadata": {},
   "outputs": [
    {
     "name": "stdout",
     "output_type": "stream",
     "text": [
      " * postgresql://student@/week12\n",
      "Done.\n",
      "Done.\n"
     ]
    },
    {
     "data": {
      "text/plain": [
       "[]"
      ]
     },
     "execution_count": 36,
     "metadata": {},
     "output_type": "execute_result"
    }
   ],
   "source": [
    "%%sql\n",
    "DROP TABLE IF EXISTS date;\n",
    "\n",
    "CREATE TABLE date (\n",
    "    key SERIAL PRIMARY KEY,\n",
    "    date CHAR(10),\n",
    "    year INTEGER,\n",
    "    quarter_of_year INTEGER,\n",
    "    month_of_year_str VARCHAR(12),\n",
    "    month_of_year INTEGER\n",
    ");"
   ]
  },
  {
   "cell_type": "code",
   "execution_count": 37,
   "metadata": {},
   "outputs": [
    {
     "name": "stdout",
     "output_type": "stream",
     "text": [
      " * postgresql://student@/week12\n",
      "32 rows affected.\n"
     ]
    },
    {
     "data": {
      "text/plain": [
       "[]"
      ]
     },
     "execution_count": 37,
     "metadata": {},
     "output_type": "execute_result"
    }
   ],
   "source": [
    "%%sql\n",
    "INSERT INTO date (date, year,quarter_of_year, month_of_year_str, month_of_year)\n",
    "SELECT DISTINCT TO_CHAR(fiscal_year_end_date, 'YYYY-MM-DD') AS date,\n",
    "    CAST(TO_CHAR(fiscal_year_end_date, 'YYYY') AS INTEGER) AS year,\n",
    "    CAST(TO_CHAR(fiscal_year_end_date, 'Q') AS INTEGER) AS quarter_of_year,\n",
    "    TO_CHAR(fiscal_year_end_date, 'Month') AS month_of_year_str,\n",
    "    CAST(TO_CHAR(fiscal_year_end_date, 'MM') AS INTEGER) AS month_of_year\n",
    "FROM salary;"
   ]
  },
  {
   "cell_type": "code",
   "execution_count": 38,
   "metadata": {},
   "outputs": [
    {
     "name": "stdout",
     "output_type": "stream",
     "text": [
      " * postgresql://student@/week12\n",
      "5 rows affected.\n"
     ]
    },
    {
     "data": {
      "text/html": [
       "<table>\n",
       "    <tr>\n",
       "        <th>key</th>\n",
       "        <th>date</th>\n",
       "        <th>year</th>\n",
       "        <th>quarter_of_year</th>\n",
       "        <th>month_of_year_str</th>\n",
       "        <th>month_of_year</th>\n",
       "    </tr>\n",
       "    <tr>\n",
       "        <td>1</td>\n",
       "        <td>2011-12-31</td>\n",
       "        <td>2011</td>\n",
       "        <td>4</td>\n",
       "        <td>December </td>\n",
       "        <td>12</td>\n",
       "    </tr>\n",
       "    <tr>\n",
       "        <td>2</td>\n",
       "        <td>2014-03-31</td>\n",
       "        <td>2014</td>\n",
       "        <td>1</td>\n",
       "        <td>March    </td>\n",
       "        <td>3</td>\n",
       "    </tr>\n",
       "    <tr>\n",
       "        <td>3</td>\n",
       "        <td>2016-03-31</td>\n",
       "        <td>2016</td>\n",
       "        <td>1</td>\n",
       "        <td>March    </td>\n",
       "        <td>3</td>\n",
       "    </tr>\n",
       "    <tr>\n",
       "        <td>4</td>\n",
       "        <td>2011-10-31</td>\n",
       "        <td>2011</td>\n",
       "        <td>4</td>\n",
       "        <td>October  </td>\n",
       "        <td>10</td>\n",
       "    </tr>\n",
       "    <tr>\n",
       "        <td>5</td>\n",
       "        <td>2014-06-30</td>\n",
       "        <td>2014</td>\n",
       "        <td>2</td>\n",
       "        <td>June     </td>\n",
       "        <td>6</td>\n",
       "    </tr>\n",
       "</table>"
      ],
      "text/plain": [
       "[(1, '2011-12-31', 2011, 4, 'December ', 12),\n",
       " (2, '2014-03-31', 2014, 1, 'March    ', 3),\n",
       " (3, '2016-03-31', 2016, 1, 'March    ', 3),\n",
       " (4, '2011-10-31', 2011, 4, 'October  ', 10),\n",
       " (5, '2014-06-30', 2014, 2, 'June     ', 6)]"
      ]
     },
     "execution_count": 38,
     "metadata": {},
     "output_type": "execute_result"
    }
   ],
   "source": [
    "%%sql\n",
    "SELECT * FROM date\n",
    "LIMIT 5;"
   ]
  },
  {
   "cell_type": "code",
   "execution_count": 39,
   "metadata": {},
   "outputs": [
    {
     "name": "stdout",
     "output_type": "stream",
     "text": [
      " * postgresql://student@/week12\n",
      "Done.\n"
     ]
    },
    {
     "data": {
      "text/plain": [
       "[]"
      ]
     },
     "execution_count": 39,
     "metadata": {},
     "output_type": "execute_result"
    }
   ],
   "source": [
    "%%sql\n",
    "ALTER TABLE salary\n",
    "ADD COLUMN date_key INTEGER,\n",
    "ADD CONSTRAINT fk_date\n",
    "    FOREIGN KEY (date_key)\n",
    "    REFERENCES date (key);"
   ]
  },
  {
   "cell_type": "code",
   "execution_count": 40,
   "metadata": {},
   "outputs": [
    {
     "name": "stdout",
     "output_type": "stream",
     "text": [
      " * postgresql://student@/week12\n",
      "868357 rows affected.\n"
     ]
    },
    {
     "data": {
      "text/plain": [
       "[]"
      ]
     },
     "execution_count": 40,
     "metadata": {},
     "output_type": "execute_result"
    }
   ],
   "source": [
    "%%sql\n",
    "UPDATE salary\n",
    "SET date_key = date.key\n",
    "FROM date\n",
    "WHERE TO_CHAR(salary.fiscal_year_end_date, 'YYYY-MM-DD') = date.date;"
   ]
  },
  {
   "cell_type": "code",
   "execution_count": 41,
   "metadata": {},
   "outputs": [
    {
     "name": "stdout",
     "output_type": "stream",
     "text": [
      " * postgresql://student@/week12\n",
      "3 rows affected.\n"
     ]
    },
    {
     "data": {
      "text/html": [
       "<table>\n",
       "    <tr>\n",
       "        <th>authority_name</th>\n",
       "        <th>fiscal_year_end_date</th>\n",
       "        <th>last_name</th>\n",
       "        <th>middle_initial</th>\n",
       "        <th>first_name</th>\n",
       "        <th>title</th>\n",
       "        <th>group_type</th>\n",
       "        <th>department</th>\n",
       "        <th>pay_type</th>\n",
       "        <th>exempt_indicator</th>\n",
       "        <th>base_annualized_salary</th>\n",
       "        <th>actual_salary_paid</th>\n",
       "        <th>overtime_paid</th>\n",
       "        <th>performance_bonus</th>\n",
       "        <th>extra_pay</th>\n",
       "        <th>other_compensation</th>\n",
       "        <th>total_compensation</th>\n",
       "        <th>paid_by_another_entity</th>\n",
       "        <th>paid_by_state_or_local_government</th>\n",
       "        <th>authority_key</th>\n",
       "        <th>group_key</th>\n",
       "        <th>department_key</th>\n",
       "        <th>title_key</th>\n",
       "        <th>pay_type_key</th>\n",
       "        <th>date_key</th>\n",
       "    </tr>\n",
       "    <tr>\n",
       "        <td>Metropolitan Transportation Authority</td>\n",
       "        <td>2018-12-31</td>\n",
       "        <td>Frazier</td>\n",
       "        <td>D</td>\n",
       "        <td>Jason</td>\n",
       "        <td>Bus Operators</td>\n",
       "        <td>Operational</td>\n",
       "        <td>Spring Creek-Svc Avail</td>\n",
       "        <td>FT</td>\n",
       "        <td>False</td>\n",
       "        <td>66127</td>\n",
       "        <td>0</td>\n",
       "        <td>0</td>\n",
       "        <td>0</td>\n",
       "        <td>0</td>\n",
       "        <td>11140</td>\n",
       "        <td>11140</td>\n",
       "        <td>False</td>\n",
       "        <td>False</td>\n",
       "        <td>42</td>\n",
       "        <td>1</td>\n",
       "        <td>5763</td>\n",
       "        <td>18922</td>\n",
       "        <td>1</td>\n",
       "        <td>6</td>\n",
       "    </tr>\n",
       "    <tr>\n",
       "        <td>Metropolitan Transportation Authority</td>\n",
       "        <td>2018-12-31</td>\n",
       "        <td>Fuentes</td>\n",
       "        <td>D</td>\n",
       "        <td>Eddie</td>\n",
       "        <td>BTO</td>\n",
       "        <td>Operational</td>\n",
       "        <td>OPS Verrazano-Narr. Br. Ops</td>\n",
       "        <td>FT</td>\n",
       "        <td>False</td>\n",
       "        <td>65037</td>\n",
       "        <td>12473</td>\n",
       "        <td>1498</td>\n",
       "        <td>0</td>\n",
       "        <td>0</td>\n",
       "        <td>0</td>\n",
       "        <td>13971</td>\n",
       "        <td>False</td>\n",
       "        <td>False</td>\n",
       "        <td>42</td>\n",
       "        <td>1</td>\n",
       "        <td>5596</td>\n",
       "        <td>2094</td>\n",
       "        <td>1</td>\n",
       "        <td>6</td>\n",
       "    </tr>\n",
       "    <tr>\n",
       "        <td>Metropolitan Transportation Authority</td>\n",
       "        <td>2018-12-31</td>\n",
       "        <td>Gama</td>\n",
       "        <td>D</td>\n",
       "        <td>Nicole</td>\n",
       "        <td>Conductor</td>\n",
       "        <td>Operational</td>\n",
       "        <td>TandE Crews</td>\n",
       "        <td>FT</td>\n",
       "        <td>True</td>\n",
       "        <td>90688</td>\n",
       "        <td>102929</td>\n",
       "        <td>20387</td>\n",
       "        <td>0</td>\n",
       "        <td>831</td>\n",
       "        <td>50</td>\n",
       "        <td>124197</td>\n",
       "        <td>False</td>\n",
       "        <td>False</td>\n",
       "        <td>42</td>\n",
       "        <td>1</td>\n",
       "        <td>1625</td>\n",
       "        <td>20554</td>\n",
       "        <td>1</td>\n",
       "        <td>6</td>\n",
       "    </tr>\n",
       "</table>"
      ],
      "text/plain": [
       "[('Metropolitan Transportation Authority', datetime.date(2018, 12, 31), 'Frazier', 'D', 'Jason', 'Bus Operators', 'Operational', 'Spring Creek-Svc Avail', 'FT', False, Decimal('66127'), Decimal('0'), Decimal('0'), Decimal('0'), Decimal('0'), Decimal('11140'), Decimal('11140'), False, False, 42, 1, 5763, 18922, 1, 6),\n",
       " ('Metropolitan Transportation Authority', datetime.date(2018, 12, 31), 'Fuentes', 'D', 'Eddie', 'BTO', 'Operational', 'OPS Verrazano-Narr. Br. Ops', 'FT', False, Decimal('65037'), Decimal('12473'), Decimal('1498'), Decimal('0'), Decimal('0'), Decimal('0'), Decimal('13971'), False, False, 42, 1, 5596, 2094, 1, 6),\n",
       " ('Metropolitan Transportation Authority', datetime.date(2018, 12, 31), 'Gama', 'D', 'Nicole', 'Conductor', 'Operational', 'TandE Crews', 'FT', True, Decimal('90688'), Decimal('102929'), Decimal('20387'), Decimal('0'), Decimal('831'), Decimal('50'), Decimal('124197'), False, False, 42, 1, 1625, 20554, 1, 6)]"
      ]
     },
     "execution_count": 41,
     "metadata": {},
     "output_type": "execute_result"
    }
   ],
   "source": [
    "%%sql\n",
    "SELECT * FROM salary\n",
    "LIMIT 3;"
   ]
  },
  {
   "cell_type": "markdown",
   "metadata": {},
   "source": [
    "### 3.10 Create dimensional table 7--- employee"
   ]
  },
  {
   "cell_type": "code",
   "execution_count": 42,
   "metadata": {},
   "outputs": [
    {
     "name": "stdout",
     "output_type": "stream",
     "text": [
      " * postgresql://student@/week12\n",
      "Done.\n",
      "Done.\n"
     ]
    },
    {
     "data": {
      "text/plain": [
       "[]"
      ]
     },
     "execution_count": 42,
     "metadata": {},
     "output_type": "execute_result"
    }
   ],
   "source": [
    "%%sql\n",
    "DROP TABLE IF EXISTS employee;\n",
    "\n",
    "CREATE TABLE employee(\n",
    "    key                      SERIAL PRIMARY KEY,\n",
    "    last_name                VARCHAR(30),\n",
    "    first_name               VARCHAR(30),\n",
    "    middle_initial           VARCHAR(1)\n",
    ")"
   ]
  },
  {
   "cell_type": "code",
   "execution_count": 43,
   "metadata": {},
   "outputs": [
    {
     "name": "stdout",
     "output_type": "stream",
     "text": [
      " * postgresql://student@/week12\n",
      "227408 rows affected.\n"
     ]
    },
    {
     "data": {
      "text/plain": [
       "[]"
      ]
     },
     "execution_count": 43,
     "metadata": {},
     "output_type": "execute_result"
    }
   ],
   "source": [
    "%%sql\n",
    "INSERT INTO employee (last_name, first_name,middle_initial)\n",
    "SELECT DISTINCT last_name, first_name,middle_initial\n",
    "FROM salary"
   ]
  },
  {
   "cell_type": "code",
   "execution_count": 44,
   "metadata": {},
   "outputs": [
    {
     "name": "stdout",
     "output_type": "stream",
     "text": [
      " * postgresql://student@/week12\n",
      "Done.\n"
     ]
    },
    {
     "data": {
      "text/plain": [
       "[]"
      ]
     },
     "execution_count": 44,
     "metadata": {},
     "output_type": "execute_result"
    }
   ],
   "source": [
    "%%sql\n",
    "ALTER TABLE salary\n",
    "ADD COLUMN employee_key INTEGER,\n",
    "ADD CONSTRAINT fk_employee\n",
    "    FOREIGN KEY (employee_key)\n",
    "    REFERENCES employee (key);"
   ]
  },
  {
   "cell_type": "code",
   "execution_count": 45,
   "metadata": {},
   "outputs": [
    {
     "name": "stdout",
     "output_type": "stream",
     "text": [
      " * postgresql://student@/week12\n",
      "489464 rows affected.\n"
     ]
    },
    {
     "data": {
      "text/plain": [
       "[]"
      ]
     },
     "execution_count": 45,
     "metadata": {},
     "output_type": "execute_result"
    }
   ],
   "source": [
    "%%sql\n",
    "UPDATE salary\n",
    "SET employee_key = employee.key\n",
    "FROM employee\n",
    "WHERE salary.last_name = employee.last_name and salary.first_name = employee.first_name and salary.middle_initial = employee.middle_initial\n"
   ]
  },
  {
   "cell_type": "code",
   "execution_count": 46,
   "metadata": {},
   "outputs": [
    {
     "name": "stdout",
     "output_type": "stream",
     "text": [
      " * postgresql://student@/week12\n",
      "3 rows affected.\n"
     ]
    },
    {
     "data": {
      "text/html": [
       "<table>\n",
       "    <tr>\n",
       "        <th>authority_name</th>\n",
       "        <th>fiscal_year_end_date</th>\n",
       "        <th>last_name</th>\n",
       "        <th>middle_initial</th>\n",
       "        <th>first_name</th>\n",
       "        <th>title</th>\n",
       "        <th>group_type</th>\n",
       "        <th>department</th>\n",
       "        <th>pay_type</th>\n",
       "        <th>exempt_indicator</th>\n",
       "        <th>base_annualized_salary</th>\n",
       "        <th>actual_salary_paid</th>\n",
       "        <th>overtime_paid</th>\n",
       "        <th>performance_bonus</th>\n",
       "        <th>extra_pay</th>\n",
       "        <th>other_compensation</th>\n",
       "        <th>total_compensation</th>\n",
       "        <th>paid_by_another_entity</th>\n",
       "        <th>paid_by_state_or_local_government</th>\n",
       "        <th>authority_key</th>\n",
       "        <th>group_key</th>\n",
       "        <th>department_key</th>\n",
       "        <th>title_key</th>\n",
       "        <th>pay_type_key</th>\n",
       "        <th>date_key</th>\n",
       "        <th>employee_key</th>\n",
       "    </tr>\n",
       "    <tr>\n",
       "        <td>Metropolitan Transportation Authority</td>\n",
       "        <td>2018-12-31</td>\n",
       "        <td>Gama</td>\n",
       "        <td>D</td>\n",
       "        <td>Nicole</td>\n",
       "        <td>Conductor</td>\n",
       "        <td>Operational</td>\n",
       "        <td>TandE Crews</td>\n",
       "        <td>FT</td>\n",
       "        <td>True</td>\n",
       "        <td>90688</td>\n",
       "        <td>102929</td>\n",
       "        <td>20387</td>\n",
       "        <td>0</td>\n",
       "        <td>831</td>\n",
       "        <td>50</td>\n",
       "        <td>124197</td>\n",
       "        <td>False</td>\n",
       "        <td>False</td>\n",
       "        <td>42</td>\n",
       "        <td>1</td>\n",
       "        <td>1625</td>\n",
       "        <td>20554</td>\n",
       "        <td>1</td>\n",
       "        <td>6</td>\n",
       "        <td>71804</td>\n",
       "    </tr>\n",
       "    <tr>\n",
       "        <td>Metropolitan Transportation Authority</td>\n",
       "        <td>2018-12-31</td>\n",
       "        <td>Garvey</td>\n",
       "        <td>P</td>\n",
       "        <td>Shawn</td>\n",
       "        <td>General Foreman</td>\n",
       "        <td>Managerial</td>\n",
       "        <td>Inspection Track NH</td>\n",
       "        <td>FT</td>\n",
       "        <td>True</td>\n",
       "        <td>113285</td>\n",
       "        <td>112097</td>\n",
       "        <td>0</td>\n",
       "        <td>0</td>\n",
       "        <td>2179</td>\n",
       "        <td>0</td>\n",
       "        <td>114276</td>\n",
       "        <td>False</td>\n",
       "        <td>False</td>\n",
       "        <td>42</td>\n",
       "        <td>3</td>\n",
       "        <td>3850</td>\n",
       "        <td>12571</td>\n",
       "        <td>1</td>\n",
       "        <td>6</td>\n",
       "        <td>73076</td>\n",
       "    </tr>\n",
       "    <tr>\n",
       "        <td>Metropolitan Transportation Authority</td>\n",
       "        <td>2018-12-31</td>\n",
       "        <td>Giangrande</td>\n",
       "        <td>J</td>\n",
       "        <td>William</td>\n",
       "        <td>Conductor</td>\n",
       "        <td>Operational</td>\n",
       "        <td>Road Passenger Crews</td>\n",
       "        <td>FT</td>\n",
       "        <td>True</td>\n",
       "        <td>94525</td>\n",
       "        <td>102995</td>\n",
       "        <td>28340</td>\n",
       "        <td>0</td>\n",
       "        <td>0</td>\n",
       "        <td>0</td>\n",
       "        <td>131336</td>\n",
       "        <td>False</td>\n",
       "        <td>False</td>\n",
       "        <td>42</td>\n",
       "        <td>1</td>\n",
       "        <td>2981</td>\n",
       "        <td>20554</td>\n",
       "        <td>1</td>\n",
       "        <td>6</td>\n",
       "        <td>74963</td>\n",
       "    </tr>\n",
       "</table>"
      ],
      "text/plain": [
       "[('Metropolitan Transportation Authority', datetime.date(2018, 12, 31), 'Gama', 'D', 'Nicole', 'Conductor', 'Operational', 'TandE Crews', 'FT', True, Decimal('90688'), Decimal('102929'), Decimal('20387'), Decimal('0'), Decimal('831'), Decimal('50'), Decimal('124197'), False, False, 42, 1, 1625, 20554, 1, 6, 71804),\n",
       " ('Metropolitan Transportation Authority', datetime.date(2018, 12, 31), 'Garvey', 'P', 'Shawn', 'General Foreman', 'Managerial', 'Inspection Track NH', 'FT', True, Decimal('113285'), Decimal('112097'), Decimal('0'), Decimal('0'), Decimal('2179'), Decimal('0'), Decimal('114276'), False, False, 42, 3, 3850, 12571, 1, 6, 73076),\n",
       " ('Metropolitan Transportation Authority', datetime.date(2018, 12, 31), 'Giangrande', 'J', 'William', 'Conductor', 'Operational', 'Road Passenger Crews', 'FT', True, Decimal('94525'), Decimal('102995'), Decimal('28340'), Decimal('0'), Decimal('0'), Decimal('0'), Decimal('131336'), False, False, 42, 1, 2981, 20554, 1, 6, 74963)]"
      ]
     },
     "execution_count": 46,
     "metadata": {},
     "output_type": "execute_result"
    }
   ],
   "source": [
    "%%sql\n",
    "SELECT * FROM salary\n",
    "LIMIT 3;"
   ]
  },
  {
   "cell_type": "markdown",
   "metadata": {},
   "source": [
    "### 3.11 Create dimensional table 8--- dim_junk"
   ]
  },
  {
   "cell_type": "code",
   "execution_count": 47,
   "metadata": {},
   "outputs": [
    {
     "name": "stdout",
     "output_type": "stream",
     "text": [
      " * postgresql://student@/week12\n",
      "Done.\n",
      "Done.\n"
     ]
    },
    {
     "data": {
      "text/plain": [
       "[]"
      ]
     },
     "execution_count": 47,
     "metadata": {},
     "output_type": "execute_result"
    }
   ],
   "source": [
    "%%sql\n",
    "DROP TABLE IF EXISTS dim_junk;\n",
    "\n",
    "CREATE TABLE dim_junk(\n",
    "    key                      SERIAL PRIMARY KEY,\n",
    "    is_exempt                BOOLEAN,\n",
    "    is_paid_by_state_or_local_government BOOLEAN,\n",
    "    is_paid_by_another_entity   BOOLEAN\n",
    "    \n",
    ")"
   ]
  },
  {
   "cell_type": "code",
   "execution_count": 48,
   "metadata": {},
   "outputs": [
    {
     "name": "stdout",
     "output_type": "stream",
     "text": [
      " * postgresql://student@/week12\n",
      "6 rows affected.\n"
     ]
    },
    {
     "data": {
      "text/plain": [
       "[]"
      ]
     },
     "execution_count": 48,
     "metadata": {},
     "output_type": "execute_result"
    }
   ],
   "source": [
    "%%sql\n",
    "INSERT INTO dim_junk (is_exempt,is_paid_by_state_or_local_government,is_paid_by_another_entity)\n",
    "SELECT DISTINCT exempt_indicator,paid_by_state_or_local_government,paid_by_another_entity\n",
    "FROM salary"
   ]
  },
  {
   "cell_type": "code",
   "execution_count": 49,
   "metadata": {},
   "outputs": [
    {
     "name": "stdout",
     "output_type": "stream",
     "text": [
      " * postgresql://student@/week12\n",
      "Done.\n"
     ]
    },
    {
     "data": {
      "text/plain": [
       "[]"
      ]
     },
     "execution_count": 49,
     "metadata": {},
     "output_type": "execute_result"
    }
   ],
   "source": [
    "%%sql\n",
    "ALTER TABLE salary\n",
    "ADD COLUMN dim_junk_key INTEGER,\n",
    "ADD CONSTRAINT fk_dim_junk\n",
    "    FOREIGN KEY (dim_junk_key)\n",
    "    REFERENCES dim_junk (key);"
   ]
  },
  {
   "cell_type": "code",
   "execution_count": 50,
   "metadata": {},
   "outputs": [
    {
     "name": "stdout",
     "output_type": "stream",
     "text": [
      " * postgresql://student@/week12\n",
      "868357 rows affected.\n"
     ]
    },
    {
     "data": {
      "text/plain": [
       "[]"
      ]
     },
     "execution_count": 50,
     "metadata": {},
     "output_type": "execute_result"
    }
   ],
   "source": [
    "%%sql\n",
    "UPDATE salary\n",
    "SET dim_junk_key = dim_junk.key\n",
    "FROM dim_junk\n",
    "WHERE salary.exempt_indicator = dim_junk.is_exempt and salary.paid_by_state_or_local_government = dim_junk.is_paid_by_state_or_local_government and salary.paid_by_another_entity = dim_junk.is_paid_by_another_entity\n"
   ]
  },
  {
   "cell_type": "code",
   "execution_count": 51,
   "metadata": {},
   "outputs": [
    {
     "name": "stdout",
     "output_type": "stream",
     "text": [
      " * postgresql://student@/week12\n",
      "3 rows affected.\n"
     ]
    },
    {
     "data": {
      "text/html": [
       "<table>\n",
       "    <tr>\n",
       "        <th>authority_name</th>\n",
       "        <th>fiscal_year_end_date</th>\n",
       "        <th>last_name</th>\n",
       "        <th>middle_initial</th>\n",
       "        <th>first_name</th>\n",
       "        <th>title</th>\n",
       "        <th>group_type</th>\n",
       "        <th>department</th>\n",
       "        <th>pay_type</th>\n",
       "        <th>exempt_indicator</th>\n",
       "        <th>base_annualized_salary</th>\n",
       "        <th>actual_salary_paid</th>\n",
       "        <th>overtime_paid</th>\n",
       "        <th>performance_bonus</th>\n",
       "        <th>extra_pay</th>\n",
       "        <th>other_compensation</th>\n",
       "        <th>total_compensation</th>\n",
       "        <th>paid_by_another_entity</th>\n",
       "        <th>paid_by_state_or_local_government</th>\n",
       "        <th>authority_key</th>\n",
       "        <th>group_key</th>\n",
       "        <th>department_key</th>\n",
       "        <th>title_key</th>\n",
       "        <th>pay_type_key</th>\n",
       "        <th>date_key</th>\n",
       "        <th>employee_key</th>\n",
       "        <th>dim_junk_key</th>\n",
       "    </tr>\n",
       "    <tr>\n",
       "        <td>Metropolitan Transportation Authority</td>\n",
       "        <td>2018-12-31</td>\n",
       "        <td>Giangrande</td>\n",
       "        <td>J</td>\n",
       "        <td>William</td>\n",
       "        <td>Conductor</td>\n",
       "        <td>Operational</td>\n",
       "        <td>Road Passenger Crews</td>\n",
       "        <td>FT</td>\n",
       "        <td>True</td>\n",
       "        <td>94525</td>\n",
       "        <td>102995</td>\n",
       "        <td>28340</td>\n",
       "        <td>0</td>\n",
       "        <td>0</td>\n",
       "        <td>0</td>\n",
       "        <td>131336</td>\n",
       "        <td>False</td>\n",
       "        <td>False</td>\n",
       "        <td>42</td>\n",
       "        <td>1</td>\n",
       "        <td>2981</td>\n",
       "        <td>20554</td>\n",
       "        <td>1</td>\n",
       "        <td>6</td>\n",
       "        <td>74963</td>\n",
       "        <td>2</td>\n",
       "    </tr>\n",
       "    <tr>\n",
       "        <td>Metropolitan Transportation Authority</td>\n",
       "        <td>2018-12-31</td>\n",
       "        <td>Glover</td>\n",
       "        <td>R</td>\n",
       "        <td>Tawnyna</td>\n",
       "        <td>Asst. Train Dispatcher</td>\n",
       "        <td>Operational</td>\n",
       "        <td>CREW DEPT</td>\n",
       "        <td>FT</td>\n",
       "        <td>True</td>\n",
       "        <td>81764</td>\n",
       "        <td>82286</td>\n",
       "        <td>15604</td>\n",
       "        <td>0</td>\n",
       "        <td>550</td>\n",
       "        <td>291</td>\n",
       "        <td>98731</td>\n",
       "        <td>False</td>\n",
       "        <td>False</td>\n",
       "        <td>42</td>\n",
       "        <td>1</td>\n",
       "        <td>1022</td>\n",
       "        <td>13345</td>\n",
       "        <td>1</td>\n",
       "        <td>6</td>\n",
       "        <td>76612</td>\n",
       "        <td>2</td>\n",
       "    </tr>\n",
       "    <tr>\n",
       "        <td>Metropolitan Transportation Authority</td>\n",
       "        <td>2018-12-31</td>\n",
       "        <td>Godwin</td>\n",
       "        <td>S</td>\n",
       "        <td>Arthur</td>\n",
       "        <td>Conductor</td>\n",
       "        <td>Operational</td>\n",
       "        <td>TandE Crews</td>\n",
       "        <td>FT</td>\n",
       "        <td>True</td>\n",
       "        <td>90688</td>\n",
       "        <td>108972</td>\n",
       "        <td>18063</td>\n",
       "        <td>0</td>\n",
       "        <td>0</td>\n",
       "        <td>50</td>\n",
       "        <td>127084</td>\n",
       "        <td>False</td>\n",
       "        <td>False</td>\n",
       "        <td>42</td>\n",
       "        <td>1</td>\n",
       "        <td>1625</td>\n",
       "        <td>20554</td>\n",
       "        <td>1</td>\n",
       "        <td>6</td>\n",
       "        <td>76828</td>\n",
       "        <td>2</td>\n",
       "    </tr>\n",
       "</table>"
      ],
      "text/plain": [
       "[('Metropolitan Transportation Authority', datetime.date(2018, 12, 31), 'Giangrande', 'J', 'William', 'Conductor', 'Operational', 'Road Passenger Crews', 'FT', True, Decimal('94525'), Decimal('102995'), Decimal('28340'), Decimal('0'), Decimal('0'), Decimal('0'), Decimal('131336'), False, False, 42, 1, 2981, 20554, 1, 6, 74963, 2),\n",
       " ('Metropolitan Transportation Authority', datetime.date(2018, 12, 31), 'Glover', 'R', 'Tawnyna', 'Asst. Train Dispatcher', 'Operational', 'CREW DEPT', 'FT', True, Decimal('81764'), Decimal('82286'), Decimal('15604'), Decimal('0'), Decimal('550'), Decimal('291'), Decimal('98731'), False, False, 42, 1, 1022, 13345, 1, 6, 76612, 2),\n",
       " ('Metropolitan Transportation Authority', datetime.date(2018, 12, 31), 'Godwin', 'S', 'Arthur', 'Conductor', 'Operational', 'TandE Crews', 'FT', True, Decimal('90688'), Decimal('108972'), Decimal('18063'), Decimal('0'), Decimal('0'), Decimal('50'), Decimal('127084'), False, False, 42, 1, 1625, 20554, 1, 6, 76828, 2)]"
      ]
     },
     "execution_count": 51,
     "metadata": {},
     "output_type": "execute_result"
    }
   ],
   "source": [
    "%%sql\n",
    "SELECT * FROM salary\n",
    "LIMIT 3;"
   ]
  },
  {
   "cell_type": "markdown",
   "metadata": {},
   "source": [
    "### 3.11 Drop columns in fact table"
   ]
  },
  {
   "cell_type": "code",
   "execution_count": 52,
   "metadata": {},
   "outputs": [
    {
     "name": "stdout",
     "output_type": "stream",
     "text": [
      " * postgresql://student@/week12\n",
      "Done.\n"
     ]
    },
    {
     "data": {
      "text/plain": [
       "[]"
      ]
     },
     "execution_count": 52,
     "metadata": {},
     "output_type": "execute_result"
    }
   ],
   "source": [
    "%%sql\n",
    "ALTER TABLE salary\n",
    "DROP COLUMN IF EXISTS authority_name,\n",
    "DROP COLUMN IF EXISTS fiscal_year_end_date,\n",
    "DROP COLUMN IF EXISTS last_name,\n",
    "DROP COLUMN IF EXISTS middle_initial,\n",
    "DROP COLUMN IF EXISTS first_name,\n",
    "DROP COLUMN IF EXISTS title,\n",
    "DROP COLUMN IF EXISTS group_type,\n",
    "DROP COLUMN IF EXISTS department,\n",
    "DROP COLUMN IF EXISTS pay_type,\n",
    "DROP COLUMN IF EXISTS exempt_indicatoR,\n",
    "DROP COLUMN IF EXISTS paid_by_another_entity,\n",
    "DROP COLUMN IF EXISTS paid_by_state_or_local_government\n",
    ";"
   ]
  },
  {
   "cell_type": "code",
   "execution_count": 53,
   "metadata": {},
   "outputs": [
    {
     "name": "stdout",
     "output_type": "stream",
     "text": [
      " * postgresql://student@/week12\n",
      "3 rows affected.\n"
     ]
    },
    {
     "data": {
      "text/html": [
       "<table>\n",
       "    <tr>\n",
       "        <th>base_annualized_salary</th>\n",
       "        <th>actual_salary_paid</th>\n",
       "        <th>overtime_paid</th>\n",
       "        <th>performance_bonus</th>\n",
       "        <th>extra_pay</th>\n",
       "        <th>other_compensation</th>\n",
       "        <th>total_compensation</th>\n",
       "        <th>authority_key</th>\n",
       "        <th>group_key</th>\n",
       "        <th>department_key</th>\n",
       "        <th>title_key</th>\n",
       "        <th>pay_type_key</th>\n",
       "        <th>date_key</th>\n",
       "        <th>employee_key</th>\n",
       "        <th>dim_junk_key</th>\n",
       "    </tr>\n",
       "    <tr>\n",
       "        <td>81764</td>\n",
       "        <td>82286</td>\n",
       "        <td>15604</td>\n",
       "        <td>0</td>\n",
       "        <td>550</td>\n",
       "        <td>291</td>\n",
       "        <td>98731</td>\n",
       "        <td>42</td>\n",
       "        <td>1</td>\n",
       "        <td>1022</td>\n",
       "        <td>13345</td>\n",
       "        <td>1</td>\n",
       "        <td>6</td>\n",
       "        <td>76612</td>\n",
       "        <td>2</td>\n",
       "    </tr>\n",
       "    <tr>\n",
       "        <td>90688</td>\n",
       "        <td>108972</td>\n",
       "        <td>18063</td>\n",
       "        <td>0</td>\n",
       "        <td>0</td>\n",
       "        <td>50</td>\n",
       "        <td>127084</td>\n",
       "        <td>42</td>\n",
       "        <td>1</td>\n",
       "        <td>1625</td>\n",
       "        <td>20554</td>\n",
       "        <td>1</td>\n",
       "        <td>6</td>\n",
       "        <td>76828</td>\n",
       "        <td>2</td>\n",
       "    </tr>\n",
       "    <tr>\n",
       "        <td>64537</td>\n",
       "        <td>64442</td>\n",
       "        <td>33460</td>\n",
       "        <td>0</td>\n",
       "        <td>248</td>\n",
       "        <td>100</td>\n",
       "        <td>98251</td>\n",
       "        <td>42</td>\n",
       "        <td>1</td>\n",
       "        <td>4143</td>\n",
       "        <td>17620</td>\n",
       "        <td>1</td>\n",
       "        <td>6</td>\n",
       "        <td>77326</td>\n",
       "        <td>6</td>\n",
       "    </tr>\n",
       "</table>"
      ],
      "text/plain": [
       "[(Decimal('81764'), Decimal('82286'), Decimal('15604'), Decimal('0'), Decimal('550'), Decimal('291'), Decimal('98731'), 42, 1, 1022, 13345, 1, 6, 76612, 2),\n",
       " (Decimal('90688'), Decimal('108972'), Decimal('18063'), Decimal('0'), Decimal('0'), Decimal('50'), Decimal('127084'), 42, 1, 1625, 20554, 1, 6, 76828, 2),\n",
       " (Decimal('64537'), Decimal('64442'), Decimal('33460'), Decimal('0'), Decimal('248'), Decimal('100'), Decimal('98251'), 42, 1, 4143, 17620, 1, 6, 77326, 6)]"
      ]
     },
     "execution_count": 53,
     "metadata": {},
     "output_type": "execute_result"
    }
   ],
   "source": [
    "%%sql\n",
    "SELECT * FROM salary\n",
    "LIMIT 3;"
   ]
  },
  {
   "cell_type": "markdown",
   "metadata": {},
   "source": [
    "# Part Four: Data Analysis"
   ]
  },
  {
   "cell_type": "markdown",
   "metadata": {},
   "source": [
    "There are **three business questions** in this part. \n",
    "- 1 What influences the overtime payment in public sector?\n",
    "- 2 What can the trend of salary for employees from different positions tell us? \n",
    "- 3 What is the salary distribution among six salary components for each job group？  \n",
    "\n",
    "**The conclusions are**:\n",
    "- 1 Overtime payment is affected by the exempt status of employees and the pay type of the job. Groups with higher proportion of exempt workers tend to have lower overtime payment; full-time pay is much higher than part-time pay and the gap is growing through years. It is suggested that authority reduces the overtime working hours for full-time workers and raise the hourly overtime pay for part-time workers.\n",
    "- 2 Trend of salary can tell us the changes in demand for various positions. One the one hand, it helps the authority to adjust their recruitment scale in advance, by predicting the base annualized salary in the future. On the other hand, it gives useful information for job hunters, since it reflects the personnel reconstructing and demand for talents.\n",
    "- 3 Base annualized salary accounts for the majority of the total compensation, at a level of about 90%. Operational and technical and engineering group has smaller percentage of base salary and higher percentage of overtime paid. The salary distribution among six salary components for each job group is obtained by using data from all authorities in the state of New York in the past 8 years. Therefore, it offers reliable information to public authorities in terms of how they should arrange their salary plan for different group types."
   ]
  },
  {
   "cell_type": "code",
   "execution_count": 19,
   "metadata": {},
   "outputs": [],
   "source": [
    "import pandas as pd\n",
    "import matplotlib.pyplot as plt\n",
    "from sqlalchemy import create_engine\n",
    "engine = create_engine('postgresql://student@/week12')"
   ]
  },
  {
   "cell_type": "markdown",
   "metadata": {},
   "source": [
    "### 4.1 Business Question: What influences the overtime payment in public sector?"
   ]
  },
  {
   "cell_type": "markdown",
   "metadata": {},
   "source": [
    "According to The Fair Labor Standards Act (FLSA), a federal law that sets minimum wage, overtime pay, recordkeeping, and youth employment rules for most private and public sector jobs, workers should be paid:\n",
    "- at least the federal minimum wage for hours worked; \n",
    "- one and a half times the hourly wage for all hours worked above 40 hours a week (overtime). In special situations, overtime can be calculated on time above 8 hours a day and 80 hours in a 14-day period.  \n",
    "\n",
    "Since overtime working hours is tightly related to employees' working motivation and sensed happiness, it is of significance to study what factors influence the overtime payment.  \n",
    "\n",
    "**Assumption:**   \n",
    "Overtime payment is influenced by working group type.   \n",
    "**Conclusion:**  \n",
    "After analyzing the data, we draw a conslusion that overtime payment is linked with whether the worker is exempt from the FLSA and is strongly related to the pay-type of the job."
   ]
  },
  {
   "cell_type": "markdown",
   "metadata": {},
   "source": [
    "#### 4.1.1 Step One: Focus on one authority to narrow the scope"
   ]
  },
  {
   "cell_type": "markdown",
   "metadata": {},
   "source": [
    "- Obviously, different industry and authority have different level of overtime payment to workers, therefore, we need to focus on one representative auhtority to answer the question.\n",
    "- The query finds the top 10 largerst authorities. We can see that Metropolitan Transportation Authority(MTA) has the most employees among all authorities. Actually, records from MTA accounts for roughly a half of the total records. MTA is a North America's largest transportation network, serving a population of 15.3 million people in the 5,000-square-mile area fanning out from New York City through Long Island, southeastern New York State, and Connecticut. MTA runs not only railways and subways, but also buses.(reference: http://web.mta.info/mta/network.htm)"
   ]
  },
  {
   "cell_type": "code",
   "execution_count": 35,
   "metadata": {},
   "outputs": [
    {
     "name": "stdout",
     "output_type": "stream",
     "text": [
      " * postgresql://student@/week12\n",
      "10 rows affected.\n"
     ]
    },
    {
     "data": {
      "text/html": [
       "<table>\n",
       "    <tr>\n",
       "        <th>authority</th>\n",
       "        <th>employee_number</th>\n",
       "    </tr>\n",
       "    <tr>\n",
       "        <td>Metropolitan Transportation Authority</td>\n",
       "        <td>95033</td>\n",
       "    </tr>\n",
       "    <tr>\n",
       "        <td>New York State Thruway Authority</td>\n",
       "        <td>6789</td>\n",
       "    </tr>\n",
       "    <tr>\n",
       "        <td>Erie County Medical Center Corporation</td>\n",
       "        <td>6399</td>\n",
       "    </tr>\n",
       "    <tr>\n",
       "        <td>Westchester County Health Care Corporation</td>\n",
       "        <td>4632</td>\n",
       "    </tr>\n",
       "    <tr>\n",
       "        <td>New York Convention Center Operating Corporation</td>\n",
       "        <td>4385</td>\n",
       "    </tr>\n",
       "    <tr>\n",
       "        <td>Power Authority of the State of New York</td>\n",
       "        <td>2010</td>\n",
       "    </tr>\n",
       "    <tr>\n",
       "        <td>Dormitory Authority of the State of New York</td>\n",
       "        <td>764</td>\n",
       "    </tr>\n",
       "    <tr>\n",
       "        <td>Capital District Transportation Authority</td>\n",
       "        <td>898</td>\n",
       "    </tr>\n",
       "    <tr>\n",
       "        <td>Niagara Frontier Transportation Authority</td>\n",
       "        <td>655</td>\n",
       "    </tr>\n",
       "    <tr>\n",
       "        <td>Central New York Regional Transportation Authority</td>\n",
       "        <td>595</td>\n",
       "    </tr>\n",
       "</table>"
      ],
      "text/plain": [
       "[('Metropolitan Transportation Authority', 95033),\n",
       " ('New York State Thruway Authority', 6789),\n",
       " ('Erie County Medical Center Corporation', 6399),\n",
       " ('Westchester County Health Care Corporation', 4632),\n",
       " ('New York Convention Center Operating Corporation', 4385),\n",
       " ('Power Authority of the State of New York', 2010),\n",
       " ('Dormitory Authority of the State of New York', 764),\n",
       " ('Capital District Transportation Authority', 898),\n",
       " ('Niagara Frontier Transportation Authority', 655),\n",
       " ('Central New York Regional Transportation Authority', 595)]"
      ]
     },
     "execution_count": 35,
     "metadata": {},
     "output_type": "execute_result"
    }
   ],
   "source": [
    "%%sql\n",
    "SELECT authority.authority, COUNT(DISTINCT employee.*) AS employee_number\n",
    "FROM authority\n",
    "JOIN salary\n",
    "ON salary.authority_key = authority.key\n",
    "JOIN employee\n",
    "ON salary.employee_key = employee.key\n",
    "GROUP BY authority.authority\n",
    "ORDER BY COUNT(employee.*) DESC\n",
    "LIMIT 10"
   ]
  },
  {
   "cell_type": "markdown",
   "metadata": {},
   "source": [
    "#### 4.1.2 Step Two: Study the Differences between Group Types"
   ]
  },
  {
   "cell_type": "markdown",
   "metadata": {},
   "source": [
    "- First finding is that operational group has the highest average overtime payment, which is approximately one over five of the total compensation. This indicates that workers at operational group frequently have to work over 8 hours a day and over 40 hours a week. Most of operational workers in this group are road passenger crews or work for Service Availability department. They suffer from long working time and relatively low base annualized salary.\n",
    "- Second finding is that executive and managerial group have the lowest ratio of overtime paid to total compensation. Both executive group and managerial group have high total compensation, but overtime paid is very low. Does it suggest that high-position employees work less overtime hours than low-position employees?"
   ]
  },
  {
   "cell_type": "code",
   "execution_count": 82,
   "metadata": {},
   "outputs": [
    {
     "name": "stdout",
     "output_type": "stream",
     "text": [
      " * postgresql://student@/week12\n",
      "6 rows affected.\n"
     ]
    },
    {
     "data": {
      "text/html": [
       "<table>\n",
       "    <tr>\n",
       "        <th>group_type</th>\n",
       "        <th>overtime_paid</th>\n",
       "        <th>total_compensation</th>\n",
       "    </tr>\n",
       "    <tr>\n",
       "        <td>Operational</td>\n",
       "        <td>14067.66</td>\n",
       "        <td>77918.91</td>\n",
       "    </tr>\n",
       "    <tr>\n",
       "        <td>Technical and Engineering</td>\n",
       "        <td>11790.91</td>\n",
       "        <td>80980.24</td>\n",
       "    </tr>\n",
       "    <tr>\n",
       "        <td>Managerial</td>\n",
       "        <td>6813.45</td>\n",
       "        <td>102260.10</td>\n",
       "    </tr>\n",
       "    <tr>\n",
       "        <td>Administrative and Clerical</td>\n",
       "        <td>5035.58</td>\n",
       "        <td>55395.03</td>\n",
       "    </tr>\n",
       "    <tr>\n",
       "        <td>Professional</td>\n",
       "        <td>4059.55</td>\n",
       "        <td>73951.87</td>\n",
       "    </tr>\n",
       "    <tr>\n",
       "        <td>Executive</td>\n",
       "        <td>4.88</td>\n",
       "        <td>165708.09</td>\n",
       "    </tr>\n",
       "</table>"
      ],
      "text/plain": [
       "[('Operational', Decimal('14067.66'), Decimal('77918.91')),\n",
       " ('Technical and Engineering', Decimal('11790.91'), Decimal('80980.24')),\n",
       " ('Managerial', Decimal('6813.45'), Decimal('102260.10')),\n",
       " ('Administrative and Clerical', Decimal('5035.58'), Decimal('55395.03')),\n",
       " ('Professional', Decimal('4059.55'), Decimal('73951.87')),\n",
       " ('Executive', Decimal('4.88'), Decimal('165708.09'))]"
      ]
     },
     "execution_count": 82,
     "metadata": {},
     "output_type": "execute_result"
    }
   ],
   "source": [
    "%%sql\n",
    "SELECT group_type.group_type, ROUND(AVG(salary.overtime_paid),2) AS overtime_paid, ROUND(AVG(salary.total_compensation),2) AS total_compensation\n",
    "FROM salary\n",
    "JOIN authority \n",
    "ON salary.authority_key = authority.key\n",
    "JOIN group_type\n",
    "ON salary.group_key = group_type.key\n",
    "WHERE authority.authority = 'Metropolitan Transportation Authority'\n",
    "GROUP BY group_type.group_type\n",
    "ORDER BY ROUND(AVG(salary.overtime_paid),2) DESC\n",
    "LIMIT 10"
   ]
  },
  {
   "cell_type": "markdown",
   "metadata": {},
   "source": [
    "#### 4.1.3 Step Three: Study the Differences between Exempt workers and Non-exempt workers"
   ]
  },
  {
   "cell_type": "markdown",
   "metadata": {},
   "source": [
    "- In the operational group, there are 17K workers who are exempted from the overtime payment of FLSA, and 63K workers who are not exempted. \n",
    "- In the executive group, there are 335 workers who are exempted from the overtime payment of FLSA, and 48 workers who are not exempted.\n",
    "- In the managerial group, there are 10K workers who are exempted from the overtime payment of FLSA, and 1483 workers who are not exempted.  \n",
    "This clearly shows that much higher proportion of executive and managerial workers are exempted from the overtime payment requirement. According to FLSA, overtime pay requirements don’t apply to certain “exempt” employees, whether in the public or private sector. Exempt employees include those working in many executive, administrative, professional, and outside sales positions. These exempt employees are compensated on a salary basis, rather than overtime payment."
   ]
  },
  {
   "cell_type": "code",
   "execution_count": 85,
   "metadata": {},
   "outputs": [
    {
     "name": "stdout",
     "output_type": "stream",
     "text": [
      " * postgresql://student@/week12\n",
      "6 rows affected.\n"
     ]
    },
    {
     "data": {
      "text/html": [
       "<table>\n",
       "    <tr>\n",
       "        <th>group_type</th>\n",
       "        <th>exempt_workers</th>\n",
       "    </tr>\n",
       "    <tr>\n",
       "        <td>Operational</td>\n",
       "        <td>17113</td>\n",
       "    </tr>\n",
       "    <tr>\n",
       "        <td>Technical and Engineering</td>\n",
       "        <td>5265</td>\n",
       "    </tr>\n",
       "    <tr>\n",
       "        <td>Administrative and Clerical</td>\n",
       "        <td>1951</td>\n",
       "    </tr>\n",
       "    <tr>\n",
       "        <td>Managerial</td>\n",
       "        <td>10702</td>\n",
       "    </tr>\n",
       "    <tr>\n",
       "        <td>Professional</td>\n",
       "        <td>8394</td>\n",
       "    </tr>\n",
       "    <tr>\n",
       "        <td>Executive</td>\n",
       "        <td>335</td>\n",
       "    </tr>\n",
       "</table>"
      ],
      "text/plain": [
       "[('Operational', 17113),\n",
       " ('Technical and Engineering', 5265),\n",
       " ('Administrative and Clerical', 1951),\n",
       " ('Managerial', 10702),\n",
       " ('Professional', 8394),\n",
       " ('Executive', 335)]"
      ]
     },
     "execution_count": 85,
     "metadata": {},
     "output_type": "execute_result"
    }
   ],
   "source": [
    "%%sql\n",
    "SELECT group_type.group_type,  COUNT(DISTINCT EMPLOYEE.*) AS exempt_workers\n",
    "FROM salary\n",
    "JOIN authority \n",
    "ON salary.authority_key = authority.key\n",
    "JOIN employee\n",
    "ON salary.employee_key = employee.key\n",
    "JOIN dim_junk\n",
    "ON salary.dim_junk_key = dim_junk.key\n",
    "JOIN group_type \n",
    "ON salary.group_key = group_type.key\n",
    "WHERE authority.authority =  'Metropolitan Transportation Authority' and dim_junk.is_exempt = 'Y' \n",
    "GROUP BY group_type.group_type\n",
    "ORDER BY ROUND(AVG(salary.overtime_paid),2) DESC\n",
    "LIMIT 10"
   ]
  },
  {
   "cell_type": "code",
   "execution_count": 86,
   "metadata": {},
   "outputs": [
    {
     "name": "stdout",
     "output_type": "stream",
     "text": [
      " * postgresql://student@/week12\n",
      "6 rows affected.\n"
     ]
    },
    {
     "data": {
      "text/html": [
       "<table>\n",
       "    <tr>\n",
       "        <th>group_type</th>\n",
       "        <th>not_exempt_workers</th>\n",
       "    </tr>\n",
       "    <tr>\n",
       "        <td>Operational</td>\n",
       "        <td>63531</td>\n",
       "    </tr>\n",
       "    <tr>\n",
       "        <td>Technical and Engineering</td>\n",
       "        <td>9403</td>\n",
       "    </tr>\n",
       "    <tr>\n",
       "        <td>Professional</td>\n",
       "        <td>2139</td>\n",
       "    </tr>\n",
       "    <tr>\n",
       "        <td>Administrative and Clerical</td>\n",
       "        <td>5360</td>\n",
       "    </tr>\n",
       "    <tr>\n",
       "        <td>Managerial</td>\n",
       "        <td>1483</td>\n",
       "    </tr>\n",
       "    <tr>\n",
       "        <td>Executive</td>\n",
       "        <td>48</td>\n",
       "    </tr>\n",
       "</table>"
      ],
      "text/plain": [
       "[('Operational', 63531),\n",
       " ('Technical and Engineering', 9403),\n",
       " ('Professional', 2139),\n",
       " ('Administrative and Clerical', 5360),\n",
       " ('Managerial', 1483),\n",
       " ('Executive', 48)]"
      ]
     },
     "execution_count": 86,
     "metadata": {},
     "output_type": "execute_result"
    }
   ],
   "source": [
    "%%sql\n",
    "SELECT group_type.group_type,  COUNT(DISTINCT EMPLOYEE.*) AS not_exempt_workers\n",
    "FROM salary\n",
    "JOIN authority \n",
    "ON salary.authority_key = authority.key\n",
    "JOIN employee\n",
    "ON salary.employee_key = employee.key\n",
    "JOIN dim_junk\n",
    "ON salary.dim_junk_key = dim_junk.key\n",
    "JOIN group_type \n",
    "ON salary.group_key = group_type.key\n",
    "WHERE authority.authority =  'Metropolitan Transportation Authority' and dim_junk.is_exempt = 'N' \n",
    "GROUP BY group_type.group_type\n",
    "ORDER BY ROUND(AVG(salary.overtime_paid),2) DESC\n",
    "LIMIT 10"
   ]
  },
  {
   "cell_type": "code",
   "execution_count": 16,
   "metadata": {},
   "outputs": [
    {
     "data": {
      "image/png": "[encoded data removed]",
      "text/plain": [
       "<Figure size 432x288 with 1 Axes>"
      ]
     },
     "metadata": {
      "needs_background": "light"
     },
     "output_type": "display_data"
    }
   ],
   "source": [
    "import pandas as pd\n",
    "import numpy as np\n",
    "exempt = pd.read_sql_query(\"SELECT group_type.group_type,  COUNT(DISTINCT EMPLOYEE.*) AS exempt_workers \\\n",
    "FROM salary \\\n",
    "JOIN authority \\\n",
    "ON salary.authority_key = authority.key \\\n",
    "JOIN employee \\\n",
    "ON salary.employee_key = employee.key \\\n",
    "JOIN dim_junk \\\n",
    "ON salary.dim_junk_key = dim_junk.key \\\n",
    "JOIN group_type \\\n",
    "ON salary.group_key = group_type.key \\\n",
    "WHERE authority.authority =  'Metropolitan Transportation Authority' and dim_junk.is_exempt = 'Y' \\\n",
    "GROUP BY group_type.group_type \\\n",
    "ORDER BY group_type.group_type \\\n",
    "LIMIT 10\",con=engine)\n",
    "\n",
    "not_exempt = pd.read_sql_query(\"SELECT group_type.group_type,  COUNT(DISTINCT EMPLOYEE.*) AS not_exempt_workers \\\n",
    "FROM salary \\\n",
    "JOIN authority \\\n",
    "ON salary.authority_key = authority.key \\\n",
    "JOIN employee \\\n",
    "ON salary.employee_key = employee.key \\\n",
    "JOIN dim_junk \\\n",
    "ON salary.dim_junk_key = dim_junk.key \\\n",
    "JOIN group_type \\\n",
    "ON salary.group_key = group_type.key \\\n",
    "WHERE authority.authority =  'Metropolitan Transportation Authority' and dim_junk.is_exempt = 'N' \\\n",
    "GROUP BY group_type.group_type \\\n",
    "ORDER BY group_type.group_type \\\n",
    "LIMIT 10\",con=engine)\n",
    "\n",
    "groups = ('Operational','Technical and Engineering','Professional','Administrative and Clerical','Managerial','Executive')\n",
    "\n",
    "\n",
    "exempt_ratio = exempt['exempt_workers']/(exempt['exempt_workers']+not_exempt['not_exempt_workers'])\n",
    "not_exempt_ratio = not_exempt['not_exempt_workers']/(exempt['exempt_workers']+not_exempt['not_exempt_workers'])\n",
    "                           \n",
    "N = 6\n",
    "x = np.arange(N) \n",
    "width = 0.4\n",
    "\n",
    "\n",
    "plt.bar(x, not_exempt_ratio, width,label=\"not_exempt\",color=\"#399FFA\")\n",
    "plt.bar(x+ width, exempt_ratio, width,label=\"exempt\",color='#FFC300')\n",
    "\n",
    "\n",
    "plt.ylabel('Average Overtime_Paid')\n",
    "plt.title(\"Proportion of not_exempt and exempt workers in different groups in MTA\")\n",
    "\n",
    "plt.xticks(x + width / 2, groups,rotation = 45)\n",
    "plt.legend(loc='best')\n",
    "plt.show()\n"
   ]
  },
  {
   "cell_type": "markdown",
   "metadata": {},
   "source": [
    "#### 4.1.4 Step Four: Study the differences between Full-time pay and Part-time pay"
   ]
  },
  {
   "cell_type": "markdown",
   "metadata": {},
   "source": [
    "- There is an obvious upward trend for the overtime pay for full time jobs, but decreasing trend for part time jobs. \n",
    "  - On the one hand, it my be due to the fact that part time workers are not compensated fairly, they get less paid than actually they should be paid. The FLSA doesn’t differentiate the overtime payment for part-time workers from that for full-time workers. Any workers who work over 40 hours a week should get overtime pay.\n",
    "  - On the other hand, it may reflect that full time workers work much longer time than part-time workers.\n",
    "- No matter which is the case, it is advisable that MTA reduces overtime working hours and increase overtime compensation per hour. Discrimination to part-time workers should be avoided, and labor contract should be improved to protect the basic rights for part-time workers.\n"
   ]
  },
  {
   "cell_type": "code",
   "execution_count": 20,
   "metadata": {},
   "outputs": [
    {
     "data": {
      "image/png": "[encoded data removed]",
      "text/plain": [
       "<Figure size 432x288 with 1 Axes>"
      ]
     },
     "metadata": {
      "needs_background": "light"
     },
     "output_type": "display_data"
    }
   ],
   "source": [
    "import pandas as pd\n",
    "import numpy as np\n",
    "data1 = pd.read_sql_query(\"\\\n",
    "                       SELECT date.year, ROUND(SUM(salary.overtime_paid),2)/ROUND(SUM(salary.base_annualized_salary),2) as over\\\n",
    "                       FROM salary\\\n",
    "                       JOIN authority\\\n",
    "                       ON salary.authority_key = authority.key\\\n",
    "                       JOIN group_type\\\n",
    "                       ON salary.group_key = group_type.key\\\n",
    "                       JOIN date\\\n",
    "                       ON salary.date_key = date.key\\\n",
    "                       JOIN pay_type\\\n",
    "                       ON salary.pay_type_key = pay_type.key\\\n",
    "                       WHERE authority.authority = 'Metropolitan Transportation Authority'and pay_type.pay_type = 'FT'\\\n",
    "                       GROUP BY date.year\",con=engine)\n",
    "data2 = pd.read_sql_query(\"\\\n",
    "                       SELECT date.year, ROUND(SUM(salary.overtime_paid),2)/ROUND(SUM(salary.base_annualized_salary),2) as over\\\n",
    "                       FROM salary\\\n",
    "                       JOIN authority\\\n",
    "                       ON salary.authority_key = authority.key\\\n",
    "                       JOIN group_type\\\n",
    "                       ON salary.group_key = group_type.key\\\n",
    "                       JOIN date\\\n",
    "                       ON salary.date_key = date.key\\\n",
    "                       JOIN pay_type\\\n",
    "                       ON salary.pay_type_key = pay_type.key\\\n",
    "                       WHERE authority.authority = 'Metropolitan Transportation Authority' and pay_type.pay_type = 'PT'\\\n",
    "                       GROUP BY date.year\",con=engine)\n",
    "\n",
    "N = 8\n",
    "\n",
    "fulltime = data1['over']\n",
    "parttime = data2['over']\n",
    "\n",
    "\n",
    "x = np.arange(N) \n",
    "width = 0.4\n",
    "\n",
    "plt.bar(x, fulltime, width,label=\"full-time\",color=\"#399FFA\")\n",
    "plt.bar(x+ width, parttime, width,label=\"part-time\",color='#FFC300')\n",
    "\n",
    "\n",
    "plt.ylabel('Full-time VS Part-time in terms of overtime_paid')\n",
    "plt.title(\"Overtime Payment as a percentage of base salary---full-time workers VS part-time workers at MTA\")\n",
    "\n",
    "plt.xticks(x + width / 2, ('2011', '2012', '2013', '2014', '2015', '2016', '2017', '2018'))\n",
    "plt.legend(loc='best')\n",
    "plt.show()"
   ]
  },
  {
   "cell_type": "markdown",
   "metadata": {},
   "source": [
    "### 4.2 Business Question: What can the trend of salary for employees from different positions tell us? "
   ]
  },
  {
   "cell_type": "markdown",
   "metadata": {},
   "source": [
    "Salary is an important measurement to evaluate employee's performance and department's operating status. Thus, we can find out some important information by analyzing the salary trend of employee in different positions."
   ]
  },
  {
   "cell_type": "markdown",
   "metadata": {},
   "source": [
    "#### 4.2.1 Step One: Which group of employee should we focus on?"
   ]
  },
  {
   "cell_type": "markdown",
   "metadata": {},
   "source": [
    "From previous question, we already knew that employees from Metropolitan Transportation Authority take up the largest proportion of data. Thus we will also use MTA as our target authority. At first, we should see whether the data of all groups of employees are available to show the line chart."
   ]
  },
  {
   "cell_type": "code",
   "execution_count": 128,
   "metadata": {},
   "outputs": [
    {
     "name": "stdout",
     "output_type": "stream",
     "text": [
      " * postgresql://student@/week12\n",
      "6 rows affected.\n"
     ]
    },
    {
     "data": {
      "text/html": [
       "<table>\n",
       "    <tr>\n",
       "        <th>group_type</th>\n",
       "        <th>available_data_year</th>\n",
       "    </tr>\n",
       "    <tr>\n",
       "        <td>Administrative and Clerical</td>\n",
       "        <td>8</td>\n",
       "    </tr>\n",
       "    <tr>\n",
       "        <td>Executive</td>\n",
       "        <td>3</td>\n",
       "    </tr>\n",
       "    <tr>\n",
       "        <td>Managerial</td>\n",
       "        <td>8</td>\n",
       "    </tr>\n",
       "    <tr>\n",
       "        <td>Operational</td>\n",
       "        <td>8</td>\n",
       "    </tr>\n",
       "    <tr>\n",
       "        <td>Professional</td>\n",
       "        <td>8</td>\n",
       "    </tr>\n",
       "    <tr>\n",
       "        <td>Technical and Engineering</td>\n",
       "        <td>2</td>\n",
       "    </tr>\n",
       "</table>"
      ],
      "text/plain": [
       "[('Administrative and Clerical', 8),\n",
       " ('Executive', 3),\n",
       " ('Managerial', 8),\n",
       " ('Operational', 8),\n",
       " ('Professional', 8),\n",
       " ('Technical and Engineering', 2)]"
      ]
     },
     "execution_count": 128,
     "metadata": {},
     "output_type": "execute_result"
    }
   ],
   "source": [
    "%%sql\n",
    "SELECT group_type.group_type,  COUNT(DISTINCT date.year) AS available_data_year\n",
    "FROM salary\n",
    "JOIN authority \n",
    "ON salary.authority_key = authority.key\n",
    "JOIN date\n",
    "ON salary.date_key = date.key\n",
    "JOIN pay_type\n",
    "ON salary.pay_type_key = pay_type.key\n",
    "JOIN group_type \n",
    "ON salary.group_key = group_type.key\n",
    "WHERE authority.authority =  'Metropolitan Transportation Authority' and pay_type.pay_type = 'PT'  \n",
    "GROUP BY group_type.group_type\n"
   ]
  },
  {
   "cell_type": "code",
   "execution_count": 127,
   "metadata": {},
   "outputs": [
    {
     "name": "stdout",
     "output_type": "stream",
     "text": [
      " * postgresql://student@/week12\n",
      "6 rows affected.\n"
     ]
    },
    {
     "data": {
      "text/html": [
       "<table>\n",
       "    <tr>\n",
       "        <th>group_type</th>\n",
       "        <th>available_data_year</th>\n",
       "    </tr>\n",
       "    <tr>\n",
       "        <td>Administrative and Clerical</td>\n",
       "        <td>8</td>\n",
       "    </tr>\n",
       "    <tr>\n",
       "        <td>Executive</td>\n",
       "        <td>8</td>\n",
       "    </tr>\n",
       "    <tr>\n",
       "        <td>Managerial</td>\n",
       "        <td>8</td>\n",
       "    </tr>\n",
       "    <tr>\n",
       "        <td>Operational</td>\n",
       "        <td>8</td>\n",
       "    </tr>\n",
       "    <tr>\n",
       "        <td>Professional</td>\n",
       "        <td>8</td>\n",
       "    </tr>\n",
       "    <tr>\n",
       "        <td>Technical and Engineering</td>\n",
       "        <td>8</td>\n",
       "    </tr>\n",
       "</table>"
      ],
      "text/plain": [
       "[('Administrative and Clerical', 8),\n",
       " ('Executive', 8),\n",
       " ('Managerial', 8),\n",
       " ('Operational', 8),\n",
       " ('Professional', 8),\n",
       " ('Technical and Engineering', 8)]"
      ]
     },
     "execution_count": 127,
     "metadata": {},
     "output_type": "execute_result"
    }
   ],
   "source": [
    "%%sql\n",
    "SELECT group_type.group_type,  COUNT(DISTINCT date.year) AS available_data_year\n",
    "FROM salary\n",
    "JOIN authority \n",
    "ON salary.authority_key = authority.key\n",
    "JOIN date\n",
    "ON salary.date_key = date.key\n",
    "JOIN pay_type\n",
    "ON salary.pay_type_key = pay_type.key\n",
    "JOIN group_type \n",
    "ON salary.group_key = group_type.key\n",
    "WHERE authority.authority =  'Metropolitan Transportation Authority' and pay_type.pay_type = 'FT'  \n",
    "GROUP BY group_type.group_type\n"
   ]
  },
  {
   "cell_type": "markdown",
   "metadata": {},
   "source": [
    "For full-time job, the dataset contains all years from 2011-2018. However, it is shown that the data for part-time executive, technical and engineering employees are incomplete. Data for most of the years are missing. So we will use the other four groups of employees in the following analysis."
   ]
  },
  {
   "cell_type": "markdown",
   "metadata": {},
   "source": [
    "#### 4.2.2 Step Two: Which salary index should we use?"
   ]
  },
  {
   "cell_type": "markdown",
   "metadata": {},
   "source": [
    "There are four types of salary in the data. As we mentioned before, total compensation is the total amount of money that an employee earns, which equals to actual salaty paid + extra pay + overtime paid + performance bonus + other compensation. However, we should know that not only base annualized salary that set by the authority can affect actual salary, but also employee's actual work time can. Thus, if an employee is hired at the end of year, he/she will earn relatively little amount of actual salary. So it will lead to huge bias. As a result, this variable can not show the salary level properly.\n"
   ]
  },
  {
   "cell_type": "markdown",
   "metadata": {},
   "source": [
    "Also, if we sum all those extra salaries as total extra pay, we can find the result that:"
   ]
  },
  {
   "cell_type": "code",
   "execution_count": 121,
   "metadata": {},
   "outputs": [
    {
     "data": {
      "image/png": "[encoded data removed]",
      "text/plain": [
       "<Figure size 432x288 with 1 Axes>"
      ]
     },
     "metadata": {
      "needs_background": "light"
     },
     "output_type": "display_data"
    }
   ],
   "source": [
    "import pandas as pd\n",
    "import numpy as np\n",
    "\n",
    "pa = pd.read_sql_query(\"\\\n",
    "                       SELECT date.year, ROUND(AVG(salary.extra_pay),2)+ROUND(AVG(salary.overtime_paid),2)+ROUND(AVG(salary.performance_bonus),2)+ROUND(AVG(salary.other_compensation),2) as other \\\n",
    "                       FROM salary\\\n",
    "                       JOIN authority\\\n",
    "                       ON salary.authority_key = authority.key\\\n",
    "                       JOIN group_type\\\n",
    "                       ON salary.group_key = group_type.key\\\n",
    "                       JOIN date\\\n",
    "                       ON salary.date_key = date.key\\\n",
    "                       JOIN pay_type\\\n",
    "                       ON salary.pay_type_key = pay_type.key\\\n",
    "                       WHERE authority.authority = 'Metropolitan Transportation Authority' and pay_type.pay_type = 'FT'\\\n",
    "                       GROUP BY date.year\",con=engine)\n",
    "pb = pd.read_sql_query(\"\\\n",
    "                       SELECT date.year, ROUND(AVG(salary.extra_pay),2)+ROUND(AVG(salary.overtime_paid),2)+ROUND(AVG(salary.performance_bonus),2)+ROUND(AVG(salary.other_compensation),2) as other \\\n",
    "                       FROM salary\\\n",
    "                       JOIN authority\\\n",
    "                       ON salary.authority_key = authority.key\\\n",
    "                       JOIN group_type\\\n",
    "                       ON salary.group_key = group_type.key\\\n",
    "                       JOIN date\\\n",
    "                       ON salary.date_key = date.key\\\n",
    "                       JOIN pay_type\\\n",
    "                       ON salary.pay_type_key = pay_type.key\\\n",
    "                       WHERE authority.authority = 'Metropolitan Transportation Authority' and pay_type.pay_type = 'PT'\\\n",
    "                       GROUP BY date.year\",con=engine)\n",
    "N = 8\n",
    "other_salary = pa[\"other\"]\n",
    "other_salary_2 = pb[\"other\"]\n",
    "\n",
    "x = np.arange(N) \n",
    "width = 0.4\n",
    "plt.plot(other_salary, label=\"FT\") \n",
    "plt.plot(other_salary_2, label=\"PT\")\n",
    "\n",
    "plt.ylabel('Salary')\n",
    "plt.title('Total extra payment for FT and PT employees by year')\n",
    "\n",
    "plt.xticks(x + width / 2, ('2011', '2012', '2013', '2014', '2015', '2016', '2017', '2018'))\n",
    "plt.legend(loc='best')\n",
    "plt.show()"
   ]
  },
  {
   "cell_type": "markdown",
   "metadata": {},
   "source": [
    "The result shows that full time employee has an overall increasing trend of extra salary. During 2014 to 2016, the extra salary had a slightly decrease. There may be two possible reasons. First, there may be some economic issues during 2014 to 2016. The authority had to cut its employees extra salary to save money. Second, during that years, performance of employees may not be that outstanding, or they may not be willing to work overtime as they did before. No matter what the true reason is, it led to the decrease of their extra salary."
   ]
  },
  {
   "cell_type": "markdown",
   "metadata": {},
   "source": [
    "However, the extra salary for part time employees is relatively stable. It's slightly fluctuating around 0. It is reasonable to assume that part time employees will care less about overtime work or outstanding performance, which makes them make little effort to earn extra money. Thus, it is meaningless if we compare full time employee's extra salary with part time employee's extra salary. We will now focus only on their base annualized salary."
   ]
  },
  {
   "cell_type": "markdown",
   "metadata": {},
   "source": [
    "#### 4.2.3 Step Three: Trend of Part-time Base Annualized Salary"
   ]
  },
  {
   "cell_type": "code",
   "execution_count": 122,
   "metadata": {},
   "outputs": [
    {
     "data": {
      "image/png": "[encoded data removed]",
      "text/plain": [
       "<Figure size 432x288 with 1 Axes>"
      ]
     },
     "metadata": {
      "needs_background": "light"
     },
     "output_type": "display_data"
    }
   ],
   "source": [
    "import pandas as pd\n",
    "import numpy as np\n",
    "pa1 = pd.read_sql_query(\"\\\n",
    "                       SELECT date.year, ROUND(AVG(salary.base_annualized_salary),2) as base \\\n",
    "                       FROM salary\\\n",
    "                       JOIN authority\\\n",
    "                       ON salary.authority_key = authority.key\\\n",
    "                       JOIN group_type\\\n",
    "                       ON salary.group_key = group_type.key\\\n",
    "                       JOIN date\\\n",
    "                       ON salary.date_key = date.key\\\n",
    "                       JOIN pay_type\\\n",
    "                       ON salary.pay_type_key = pay_type.key\\\n",
    "                       WHERE authority.authority = 'Metropolitan Transportation Authority' and group_type.group_type = 'Professional'and pay_type.pay_type = 'PT'\\\n",
    "                       GROUP BY date.year\",con=engine)\n",
    "\n",
    "pa2 = pd.read_sql_query(\"\\\n",
    "                       SELECT date.year, ROUND(AVG(salary.base_annualized_salary),2) as base \\\n",
    "                       FROM salary\\\n",
    "                       JOIN authority\\\n",
    "                       ON salary.authority_key = authority.key\\\n",
    "                       JOIN group_type\\\n",
    "                       ON salary.group_key = group_type.key\\\n",
    "                       JOIN date\\\n",
    "                       ON salary.date_key = date.key\\\n",
    "                       JOIN pay_type\\\n",
    "                       ON salary.pay_type_key = pay_type.key\\\n",
    "                       WHERE authority.authority = 'Metropolitan Transportation Authority'and group_type.group_type = 'Operational'and pay_type.pay_type = 'PT'\\\n",
    "                       GROUP BY date.year\",con=engine)\n",
    "\n",
    "\n",
    "\n",
    "pa3 = pd.read_sql_query(\"\\\n",
    "                       SELECT date.year, ROUND(AVG(salary.base_annualized_salary),2) as base \\\n",
    "                       FROM salary\\\n",
    "                       JOIN authority\\\n",
    "                       ON salary.authority_key = authority.key\\\n",
    "                       JOIN group_type\\\n",
    "                       ON salary.group_key = group_type.key\\\n",
    "                       JOIN date\\\n",
    "                       ON salary.date_key = date.key\\\n",
    "                       JOIN pay_type\\\n",
    "                       ON salary.pay_type_key = pay_type.key\\\n",
    "                       WHERE authority.authority = 'Metropolitan Transportation Authority' and group_type.group_type = 'Managerial'and pay_type.pay_type = 'PT'\\\n",
    "                       GROUP BY date.year\",con=engine)\n",
    "pa4 = pd.read_sql_query(\"\\\n",
    "                       SELECT date.year, ROUND(AVG(salary.base_annualized_salary),2) as base \\\n",
    "                       FROM salary\\\n",
    "                       JOIN authority\\\n",
    "                       ON salary.authority_key = authority.key\\\n",
    "                       JOIN group_type\\\n",
    "                       ON salary.group_key = group_type.key\\\n",
    "                       JOIN date\\\n",
    "                       ON salary.date_key = date.key\\\n",
    "                       JOIN pay_type\\\n",
    "                       ON salary.pay_type_key = pay_type.key\\\n",
    "                       WHERE authority.authority = 'Metropolitan Transportation Authority' and group_type.group_type = 'Administrative and Clerical'and pay_type.pay_type = 'PT'\\\n",
    "                       GROUP BY date.year\",con=engine)\n",
    "N = 8\n",
    "base_salary = pa1[\"base\"]\n",
    "base_2_salary = pa2['base']\n",
    "base_3_salary = pa3['base']\n",
    "base_4_salary = pa4['base']\n",
    "\n",
    "x = np.arange(N) \n",
    "width = 0.4\n",
    "plt.plot(base_salary, label=\"Pro\")\n",
    "plt.plot(base_2_salary, label=\"Ope\")   \n",
    "plt.plot(base_3_salary, label=\"Managerial\")  \n",
    "plt.plot(base_4_salary, label=\"Admin\") \n",
    "\n",
    "plt.ylabel('Salary')\n",
    "plt.title('Base Salary for PT employees by year')\n",
    "\n",
    "plt.xticks(x + width / 2, ('2011', '2012', '2013', '2014', '2015', '2016', '2017', '2018'))\n",
    "plt.legend(loc='best')\n",
    "plt.show()"
   ]
  },
  {
   "cell_type": "markdown",
   "metadata": {},
   "source": [
    "Look at the salary of part time job employees. We can see some interesting trends. While employees of operational and administrative and clerical have an increasing salary, the salary for managers and professional employees are decreasing decrease during 2012-2013. The decreasing for managerial employees is extremely significant. From 140000 to 4000, a 70% percent cut of salary, indicates at that time, part-time managerial employees were having a bad time. After then it returns to the normal trend. But for professional employees, their base annulized salary is keeping at that low level since then."
   ]
  },
  {
   "cell_type": "markdown",
   "metadata": {},
   "source": [
    "#### 4.2.3 Step Three: Trend of Full-time Base Annualized Salary"
   ]
  },
  {
   "cell_type": "code",
   "execution_count": 123,
   "metadata": {},
   "outputs": [
    {
     "data": {
      "image/png": "[encoded data removed]",
      "text/plain": [
       "<Figure size 432x288 with 1 Axes>"
      ]
     },
     "metadata": {
      "needs_background": "light"
     },
     "output_type": "display_data"
    }
   ],
   "source": [
    "import pandas as pd\n",
    "import numpy as np\n",
    "pa1 = pd.read_sql_query(\"\\\n",
    "                       SELECT date.year, ROUND(AVG(salary.base_annualized_salary),2) as base \\\n",
    "                       FROM salary\\\n",
    "                       JOIN authority\\\n",
    "                       ON salary.authority_key = authority.key\\\n",
    "                       JOIN group_type\\\n",
    "                       ON salary.group_key = group_type.key\\\n",
    "                       JOIN date\\\n",
    "                       ON salary.date_key = date.key\\\n",
    "                       JOIN pay_type\\\n",
    "                       ON salary.pay_type_key = pay_type.key\\\n",
    "                       WHERE authority.authority = 'Metropolitan Transportation Authority' and group_type.group_type = 'Professional'and pay_type.pay_type = 'FT'\\\n",
    "                       GROUP BY date.year\",con=engine)\n",
    "\n",
    "pa2 = pd.read_sql_query(\"\\\n",
    "                       SELECT date.year, ROUND(AVG(salary.base_annualized_salary),2) as base \\\n",
    "                       FROM salary\\\n",
    "                       JOIN authority\\\n",
    "                       ON salary.authority_key = authority.key\\\n",
    "                       JOIN group_type\\\n",
    "                       ON salary.group_key = group_type.key\\\n",
    "                       JOIN date\\\n",
    "                       ON salary.date_key = date.key\\\n",
    "                       JOIN pay_type\\\n",
    "                       ON salary.pay_type_key = pay_type.key\\\n",
    "                       WHERE authority.authority = 'Metropolitan Transportation Authority'and group_type.group_type = 'Operational'and pay_type.pay_type = 'FT'\\\n",
    "                       GROUP BY date.year\",con=engine)\n",
    "\n",
    "\n",
    "pa3 = pd.read_sql_query(\"\\\n",
    "                       SELECT date.year, ROUND(AVG(salary.base_annualized_salary),2) as base \\\n",
    "                       FROM salary\\\n",
    "                       JOIN authority\\\n",
    "                       ON salary.authority_key = authority.key\\\n",
    "                       JOIN group_type\\\n",
    "                       ON salary.group_key = group_type.key\\\n",
    "                       JOIN date\\\n",
    "                       ON salary.date_key = date.key\\\n",
    "                       JOIN pay_type\\\n",
    "                       ON salary.pay_type_key = pay_type.key\\\n",
    "                       WHERE authority.authority = 'Metropolitan Transportation Authority' and group_type.group_type = 'Managerial'and pay_type.pay_type = 'FT'\\\n",
    "                       GROUP BY date.year\",con=engine)\n",
    "pa4 = pd.read_sql_query(\"\\\n",
    "                       SELECT date.year, ROUND(AVG(salary.base_annualized_salary),2) as base \\\n",
    "                       FROM salary\\\n",
    "                       JOIN authority\\\n",
    "                       ON salary.authority_key = authority.key\\\n",
    "                       JOIN group_type\\\n",
    "                       ON salary.group_key = group_type.key\\\n",
    "                       JOIN date\\\n",
    "                       ON salary.date_key = date.key\\\n",
    "                       JOIN pay_type\\\n",
    "                       ON salary.pay_type_key = pay_type.key\\\n",
    "                       WHERE authority.authority = 'Metropolitan Transportation Authority' and group_type.group_type = 'Administrative and Clerical'and pay_type.pay_type = 'FT'\\\n",
    "                       GROUP BY date.year\",con=engine)\n",
    "N = 8\n",
    "base_salary = pa1[\"base\"]\n",
    "base_2_salary = pa2['base']\n",
    "base_3_salary = pa3['base']\n",
    "base_4_salary = pa4['base']\n",
    "\n",
    "x = np.arange(N) \n",
    "width = 0.4\n",
    "plt.plot(base_salary, label=\"Pro\")\n",
    "plt.plot(base_2_salary, label=\"Ope\")   \n",
    "plt.plot(base_3_salary, label=\"Managerial\")  \n",
    "plt.plot(base_4_salary, label=\"Admin\") \n",
    "\n",
    "plt.ylabel('Salary')\n",
    "plt.title('Base Salary for FT employees by year')\n",
    "\n",
    "plt.xticks(x + width / 2, ('2011', '2012', '2013', '2014', '2015', '2016', '2017', '2018'))\n",
    "plt.legend(loc='best')\n",
    "plt.show()"
   ]
  },
  {
   "cell_type": "markdown",
   "metadata": {},
   "source": [
    "Now we look at the trend for full time employees. The overall trends for all different groups of employees are steadily increasing, which is the normal pattern for an authority. However, we could still see a slightly decrease for managerial employees during 2012."
   ]
  },
  {
   "cell_type": "markdown",
   "metadata": {},
   "source": [
    "With previous two line plots, we can conclude that during 2012-2013, different employees of MTA have different salary status. For operating employees and Administrative and Clerical employees, their base annualized salary are keeping steadily increasing. However, for professional employees, the base salary for part time employees is decreasing. What's more, base salary for both part time and full time managerial employees had a significant decrease. This trend indicates that managerial and professional position in MTA in 2012-2013 were suffering a serious salary cut. This may due to some operating problems that force the authority to save money. However, since then, salary for managerial employees was recovered. For professional part time employees, their base salary remained that low level, even far lower than all other positions. But for full time professional employees, they have a relatively high base annualized salary, which is only lower than managers."
   ]
  },
  {
   "cell_type": "markdown",
   "metadata": {},
   "source": [
    "This interesting result indicates that since 2012, the demand of professional employees is decreasing. Thus, MTA cut the salary of part time professional employees. But overall, the authority hasn't met serious operating problems, because it doesn't cut the salary for full time employees."
   ]
  },
  {
   "cell_type": "markdown",
   "metadata": {},
   "source": [
    "### 4.3 Business Question: What is the salary distribution for each job group？"
   ]
  },
  {
   "cell_type": "markdown",
   "metadata": {},
   "source": [
    "**Question Aim:**\n",
    "\n",
    "This question focuses on the distribution of salary for each job group. Due to the limitation of total salary, company executives want to know the flow of salary and max their benefit, which divide the money to the group who can create the maximum beneifit."
   ]
  },
  {
   "cell_type": "markdown",
   "metadata": {},
   "source": [
    "#### 4.3.1 What is proportion for salary types in each job group?"
   ]
  },
  {
   "cell_type": "markdown",
   "metadata": {},
   "source": [
    "- For this sub task, a table about group type and salary consitents will be built. After the table was built, six of pie charts of salary consistents in each group will be shown up.\n",
    "- From the six pie charts, it is easy to see that all of them are highly dependent on actual salary, which means all the six groups are stable that employees will get their regular salary on the end of month and there is no signal of salary fluctuation occured.\n",
    "- Operational group and technical & Engineering group have certain number of overtime salary which over ten percents of total salary in their own groups. Based on this observation, the company executives should pay more attention on the working time of these two groups' employees. Even they get some of overtime salary, they still need a few time to spend on their own live. Moreover, according to the state law in New York State, overtime salary is mandatory for the works who work out of their regular job hours. So, it is a good suggestion that the employees who work overtime can a certain percent of bonus for their overtime work, which can encourage them to work beside the mandatory salary."
   ]
  },
  {
   "cell_type": "code",
   "execution_count": 6,
   "metadata": {},
   "outputs": [
    {
     "name": "stdout",
     "output_type": "stream",
     "text": [
      " * postgresql://student@/week12\n",
      "6 rows affected.\n"
     ]
    },
    {
     "data": {
      "text/html": [
       "<table>\n",
       "    <tr>\n",
       "        <th>group_type</th>\n",
       "        <th>avg_actual</th>\n",
       "        <th>avg_overtime</th>\n",
       "        <th>avg_bonus</th>\n",
       "        <th>avg_extra</th>\n",
       "        <th>avg_other</th>\n",
       "    </tr>\n",
       "    <tr>\n",
       "        <td>Administrative and Clerical</td>\n",
       "        <td>39248.80</td>\n",
       "        <td>3230.84</td>\n",
       "        <td>28.83</td>\n",
       "        <td>1003.67</td>\n",
       "        <td>425.74</td>\n",
       "    </tr>\n",
       "    <tr>\n",
       "        <td>Executive</td>\n",
       "        <td>167091.54</td>\n",
       "        <td>62.41</td>\n",
       "        <td>5035.34</td>\n",
       "        <td>6088.23</td>\n",
       "        <td>3141.92</td>\n",
       "    </tr>\n",
       "    <tr>\n",
       "        <td>Managerial</td>\n",
       "        <td>90381.44</td>\n",
       "        <td>6143.14</td>\n",
       "        <td>128.88</td>\n",
       "        <td>5283.44</td>\n",
       "        <td>419.69</td>\n",
       "    </tr>\n",
       "    <tr>\n",
       "        <td>Operational</td>\n",
       "        <td>54386.17</td>\n",
       "        <td>11992.36</td>\n",
       "        <td>49.12</td>\n",
       "        <td>1803.86</td>\n",
       "        <td>749.72</td>\n",
       "    </tr>\n",
       "    <tr>\n",
       "        <td>Professional</td>\n",
       "        <td>67606.75</td>\n",
       "        <td>4030.73</td>\n",
       "        <td>85.68</td>\n",
       "        <td>2137.52</td>\n",
       "        <td>894.78</td>\n",
       "    </tr>\n",
       "    <tr>\n",
       "        <td>Technical and Engineering</td>\n",
       "        <td>65580.10</td>\n",
       "        <td>9543.94</td>\n",
       "        <td>22.65</td>\n",
       "        <td>1441.10</td>\n",
       "        <td>343.75</td>\n",
       "    </tr>\n",
       "</table>"
      ],
      "text/plain": [
       "[('Administrative and Clerical', Decimal('39248.80'), Decimal('3230.84'), Decimal('28.83'), Decimal('1003.67'), Decimal('425.74')),\n",
       " ('Executive', Decimal('167091.54'), Decimal('62.41'), Decimal('5035.34'), Decimal('6088.23'), Decimal('3141.92')),\n",
       " ('Managerial', Decimal('90381.44'), Decimal('6143.14'), Decimal('128.88'), Decimal('5283.44'), Decimal('419.69')),\n",
       " ('Operational', Decimal('54386.17'), Decimal('11992.36'), Decimal('49.12'), Decimal('1803.86'), Decimal('749.72')),\n",
       " ('Professional', Decimal('67606.75'), Decimal('4030.73'), Decimal('85.68'), Decimal('2137.52'), Decimal('894.78')),\n",
       " ('Technical and Engineering', Decimal('65580.10'), Decimal('9543.94'), Decimal('22.65'), Decimal('1441.10'), Decimal('343.75'))]"
      ]
     },
     "execution_count": 6,
     "metadata": {},
     "output_type": "execute_result"
    }
   ],
   "source": [
    "%%sql\n",
    "SELECT group_type.group_type, ROUND(avg(actual_salary_paid),2) AS avg_actual, ROUND(avg(overtime_paid),2) AS avg_overtime, ROUND(avg(performance_bonus),2) AS avg_bonus,\n",
    "       ROUND(avg(extra_pay),2) AS avg_extra, ROUND(avg(other_compensation),2) AS avg_other\n",
    "FROM salary \n",
    "JOIN group_type\n",
    "ON salary.group_key = group_type.key\n",
    "GROUP BY group_type\n",
    "ORDER BY group_type"
   ]
  },
  {
   "cell_type": "code",
   "execution_count": 10,
   "metadata": {},
   "outputs": [],
   "source": [
    "\n",
    "avg_salary = pd.read_sql_query('SELECT group_type.group_type, ROUND(avg(actual_salary_paid),2) AS avg_actual, ROUND(avg(overtime_paid),2) AS avg_overtime, ROUND(avg(performance_bonus),2) AS avg_bonus,\\\n",
    "                                      ROUND(avg(extra_pay),2) AS avg_extra, ROUND(avg(other_compensation),2) AS avg_other\\\n",
    "                               FROM salary\\\n",
    "                               JOIN group_type\\\n",
    "                               ON salary.group_key = group_type.key\\\n",
    "                               GROUP BY group_type\\\n",
    "                               ORDER BY group_type',con=engine)"
   ]
  },
  {
   "cell_type": "code",
   "execution_count": 17,
   "metadata": {},
   "outputs": [
    {
     "data": {
      "text/html": [
       "<div>\n",
       "<style scoped>\n",
       "    .dataframe tbody tr th:only-of-type {\n",
       "        vertical-align: middle;\n",
       "    }\n",
       "\n",
       "    .dataframe tbody tr th {\n",
       "        vertical-align: top;\n",
       "    }\n",
       "\n",
       "    .dataframe thead th {\n",
       "        text-align: right;\n",
       "    }\n",
       "</style>\n",
       "<table border=\"1\" class=\"dataframe\">\n",
       "  <thead>\n",
       "    <tr style=\"text-align: right;\">\n",
       "      <th>group_type</th>\n",
       "      <th>index</th>\n",
       "      <th>Administrative and Clerical</th>\n",
       "      <th>Executive</th>\n",
       "      <th>Managerial</th>\n",
       "      <th>Operational</th>\n",
       "      <th>Professional</th>\n",
       "      <th>Technical and Engineering</th>\n",
       "    </tr>\n",
       "  </thead>\n",
       "  <tbody>\n",
       "    <tr>\n",
       "      <th>0</th>\n",
       "      <td>avg_actual</td>\n",
       "      <td>39248.8</td>\n",
       "      <td>167092</td>\n",
       "      <td>90381.4</td>\n",
       "      <td>54386.2</td>\n",
       "      <td>67606.8</td>\n",
       "      <td>65580.1</td>\n",
       "    </tr>\n",
       "    <tr>\n",
       "      <th>1</th>\n",
       "      <td>avg_overtime</td>\n",
       "      <td>3230.84</td>\n",
       "      <td>62.41</td>\n",
       "      <td>6143.14</td>\n",
       "      <td>11992.4</td>\n",
       "      <td>4030.73</td>\n",
       "      <td>9543.94</td>\n",
       "    </tr>\n",
       "    <tr>\n",
       "      <th>2</th>\n",
       "      <td>avg_bonus</td>\n",
       "      <td>28.83</td>\n",
       "      <td>5035.34</td>\n",
       "      <td>128.88</td>\n",
       "      <td>49.12</td>\n",
       "      <td>85.68</td>\n",
       "      <td>22.65</td>\n",
       "    </tr>\n",
       "    <tr>\n",
       "      <th>3</th>\n",
       "      <td>avg_extra</td>\n",
       "      <td>1003.67</td>\n",
       "      <td>6088.23</td>\n",
       "      <td>5283.44</td>\n",
       "      <td>1803.86</td>\n",
       "      <td>2137.52</td>\n",
       "      <td>1441.1</td>\n",
       "    </tr>\n",
       "    <tr>\n",
       "      <th>4</th>\n",
       "      <td>avg_other</td>\n",
       "      <td>425.74</td>\n",
       "      <td>3141.92</td>\n",
       "      <td>419.69</td>\n",
       "      <td>749.72</td>\n",
       "      <td>894.78</td>\n",
       "      <td>343.75</td>\n",
       "    </tr>\n",
       "  </tbody>\n",
       "</table>\n",
       "</div>"
      ],
      "text/plain": [
       "group_type         index Administrative and Clerical Executive Managerial  \\\n",
       "0             avg_actual                     39248.8    167092    90381.4   \n",
       "1           avg_overtime                     3230.84     62.41    6143.14   \n",
       "2              avg_bonus                       28.83   5035.34     128.88   \n",
       "3              avg_extra                     1003.67   6088.23    5283.44   \n",
       "4              avg_other                      425.74   3141.92     419.69   \n",
       "\n",
       "group_type Operational Professional Technical and Engineering  \n",
       "0              54386.2      67606.8                   65580.1  \n",
       "1              11992.4      4030.73                   9543.94  \n",
       "2                49.12        85.68                     22.65  \n",
       "3              1803.86      2137.52                    1441.1  \n",
       "4               749.72       894.78                    343.75  "
      ]
     },
     "execution_count": 17,
     "metadata": {},
     "output_type": "execute_result"
    }
   ],
   "source": [
    "avg_clean=avg_salary.transpose()\n",
    "avg_clean.columns=avg_clean.iloc[0]\n",
    "avg_clean = avg_clean.drop(['group_type'])\n",
    "avg_clean.reset_index(level=0,inplace=True)\n",
    "avg_clean"
   ]
  },
  {
   "cell_type": "code",
   "execution_count": 22,
   "metadata": {},
   "outputs": [],
   "source": [
    "import matplotlib.pyplot as plt\n",
    "import matplotlib.ticker as mtick"
   ]
  },
  {
   "cell_type": "code",
   "execution_count": 63,
   "metadata": {},
   "outputs": [
    {
     "data": {
      "image/png": "[encoded data removed]",
      "text/plain": [
       "<Figure size 1368x720 with 6 Axes>"
      ]
     },
     "metadata": {},
     "output_type": "display_data"
    }
   ],
   "source": [
    "fig, axs = plt.subplots(2, 3,figsize=(19, 10))\n",
    "axs[0,0].pie(avg_clean['Administrative and Clerical'],\n",
    "       labels= avg_clean['index'],\n",
    "       shadow = True,\n",
    "       startangle = 30,autopct='%.0f%%',colors = ['#ff6666','#ffd11a','#99ff99','#66b3ff'],\n",
    "       explode = (0.2,0,0,0,0))\n",
    "\n",
    "axs[0,1].pie(avg_clean['Executive'],\n",
    "       labels= avg_clean['index'],\n",
    "       shadow = True,autopct='%.0f%%',colors = ['#ff6666','#ffd11a','#99ff99','#66b3ff'],\n",
    "       startangle = 30,explode = (0.2,0,0,0,0))\n",
    "\n",
    "axs[0,2].pie(avg_clean['Managerial'],\n",
    "       labels= avg_clean['index'],\n",
    "       shadow = True,autopct='%.000f%%',colors = ['#ff6666','#ffd11a','#99ff99','#66b3ff'],\n",
    "       startangle = 30,explode = (0.2,0,0,0,0))\n",
    "\n",
    "axs[1,0].pie(avg_clean['Operational'],\n",
    "       labels= avg_clean['index'],autopct='%.0f%%',\n",
    "       shadow = True,colors = ['#ff6666','#ffd11a','#99ff99','#66b3ff'],\n",
    "       startangle = 30,explode = (0.2,0,0,0,0))\n",
    "\n",
    "axs[1,1].pie(avg_clean['Professional'],\n",
    "       labels= avg_clean['index'],autopct='%.0f%%',\n",
    "       shadow = True,colors = ['#ff6666','#ffd11a','#99ff99','#66b3ff'],\n",
    "       startangle = 30,explode = (0.2,0,0,0,0))\n",
    "\n",
    "axs[1,2].pie(avg_clean['Technical and Engineering'],\n",
    "       labels= avg_clean['index'],autopct='%.0f%%',\n",
    "       shadow = True,colors = ['#ff6666','#ffd11a','#99ff99','#66b3ff'],\n",
    "       startangle = 30,explode = (0.2,0,0,0,0))\n",
    "fig.subplots_adjust(wspace=.8)\n",
    "plt.show()"
   ]
  }
 ],
 "metadata": {
  "kernelspec": {
   "display_name": "Python 3",
   "language": "python",
   "name": "python3"
  },
  "language_info": {
   "codemirror_mode": {
    "name": "ipython",
    "version": 3
   },
   "file_extension": ".py",
   "mimetype": "text/x-python",
   "name": "python",
   "nbconvert_exporter": "python",
   "pygments_lexer": "ipython3",
   "version": "3.5.3"
  }
 },
 "nbformat": 4,
 "nbformat_minor": 2
}
